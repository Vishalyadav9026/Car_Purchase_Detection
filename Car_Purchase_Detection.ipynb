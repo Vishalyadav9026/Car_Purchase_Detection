{
  "cells": [
    {
      "cell_type": "markdown",
      "id": "4f07d5cc",
      "metadata": {
        "papermill": {
          "duration": 0.010095,
          "end_time": "2022-08-11T13:26:08.854010",
          "exception": false,
          "start_time": "2022-08-11T13:26:08.843915",
          "status": "completed"
        },
        "tags": [],
        "id": "4f07d5cc"
      },
      "source": [
        "# Decision Tree Classifier on Car Purchase Dataset"
      ]
    },
    {
      "cell_type": "code",
      "execution_count": null,
      "id": "025f4465",
      "metadata": {
        "_cell_guid": "b1076dfc-b9ad-4769-8c92-a6c4dae69d19",
        "_uuid": "8f2839f25d086af736a60e9eeb907d3b93b6e0e5",
        "execution": {
          "iopub.execute_input": "2022-08-11T13:26:08.868999Z",
          "iopub.status.busy": "2022-08-11T13:26:08.868281Z",
          "iopub.status.idle": "2022-08-11T13:26:08.890200Z",
          "shell.execute_reply": "2022-08-11T13:26:08.888785Z"
        },
        "papermill": {
          "duration": 0.033176,
          "end_time": "2022-08-11T13:26:08.893667",
          "exception": false,
          "start_time": "2022-08-11T13:26:08.860491",
          "status": "completed"
        },
        "tags": [],
        "id": "025f4465",
        "outputId": "41fd8637-51dd-4a6a-e6eb-4b80e81751a2"
      },
      "outputs": [
        {
          "name": "stdout",
          "output_type": "stream",
          "text": [
            "/kaggle/input/cars-purchase-decision-dataset/car_data.csv\n"
          ]
        }
      ],
      "source": [
        "import os\n",
        "for dirname, _, filenames in os.walk('/kaggle/input'):\n",
        "    for filename in filenames:\n",
        "        print(os.path.join(dirname, filename))"
      ]
    },
    {
      "cell_type": "code",
      "execution_count": null,
      "id": "505bbdd0",
      "metadata": {
        "execution": {
          "iopub.execute_input": "2022-08-11T13:26:08.909002Z",
          "iopub.status.busy": "2022-08-11T13:26:08.908234Z",
          "iopub.status.idle": "2022-08-11T13:26:08.913436Z",
          "shell.execute_reply": "2022-08-11T13:26:08.912569Z"
        },
        "papermill": {
          "duration": 0.01546,
          "end_time": "2022-08-11T13:26:08.915691",
          "exception": false,
          "start_time": "2022-08-11T13:26:08.900231",
          "status": "completed"
        },
        "tags": [],
        "id": "505bbdd0"
      },
      "outputs": [],
      "source": [
        "import pandas as pd "
      ]
    },
    {
      "cell_type": "code",
      "execution_count": null,
      "id": "78a61a99",
      "metadata": {
        "execution": {
          "iopub.execute_input": "2022-08-11T13:26:08.931048Z",
          "iopub.status.busy": "2022-08-11T13:26:08.930421Z",
          "iopub.status.idle": "2022-08-11T13:26:08.935278Z",
          "shell.execute_reply": "2022-08-11T13:26:08.934443Z"
        },
        "papermill": {
          "duration": 0.015489,
          "end_time": "2022-08-11T13:26:08.937628",
          "exception": false,
          "start_time": "2022-08-11T13:26:08.922139",
          "status": "completed"
        },
        "tags": [],
        "id": "78a61a99"
      },
      "outputs": [],
      "source": [
        "link = \"/kaggle/input/cars-purchase-decision-dataset/car_data.csv\" "
      ]
    },
    {
      "cell_type": "code",
      "execution_count": null,
      "id": "c27fa7d3",
      "metadata": {
        "execution": {
          "iopub.execute_input": "2022-08-11T13:26:08.952330Z",
          "iopub.status.busy": "2022-08-11T13:26:08.951693Z",
          "iopub.status.idle": "2022-08-11T13:26:08.991214Z",
          "shell.execute_reply": "2022-08-11T13:26:08.990080Z"
        },
        "papermill": {
          "duration": 0.049751,
          "end_time": "2022-08-11T13:26:08.993740",
          "exception": false,
          "start_time": "2022-08-11T13:26:08.943989",
          "status": "completed"
        },
        "tags": [],
        "id": "c27fa7d3",
        "outputId": "26514cf8-dd6d-4569-cc2f-dfd07f344483"
      },
      "outputs": [
        {
          "data": {
            "text/html": [
              "<div>\n",
              "<style scoped>\n",
              "    .dataframe tbody tr th:only-of-type {\n",
              "        vertical-align: middle;\n",
              "    }\n",
              "\n",
              "    .dataframe tbody tr th {\n",
              "        vertical-align: top;\n",
              "    }\n",
              "\n",
              "    .dataframe thead th {\n",
              "        text-align: right;\n",
              "    }\n",
              "</style>\n",
              "<table border=\"1\" class=\"dataframe\">\n",
              "  <thead>\n",
              "    <tr style=\"text-align: right;\">\n",
              "      <th></th>\n",
              "      <th>User ID</th>\n",
              "      <th>Gender</th>\n",
              "      <th>Age</th>\n",
              "      <th>AnnualSalary</th>\n",
              "      <th>Purchased</th>\n",
              "    </tr>\n",
              "  </thead>\n",
              "  <tbody>\n",
              "    <tr>\n",
              "      <th>0</th>\n",
              "      <td>385</td>\n",
              "      <td>Male</td>\n",
              "      <td>35</td>\n",
              "      <td>20000</td>\n",
              "      <td>0</td>\n",
              "    </tr>\n",
              "    <tr>\n",
              "      <th>1</th>\n",
              "      <td>681</td>\n",
              "      <td>Male</td>\n",
              "      <td>40</td>\n",
              "      <td>43500</td>\n",
              "      <td>0</td>\n",
              "    </tr>\n",
              "    <tr>\n",
              "      <th>2</th>\n",
              "      <td>353</td>\n",
              "      <td>Male</td>\n",
              "      <td>49</td>\n",
              "      <td>74000</td>\n",
              "      <td>0</td>\n",
              "    </tr>\n",
              "    <tr>\n",
              "      <th>3</th>\n",
              "      <td>895</td>\n",
              "      <td>Male</td>\n",
              "      <td>40</td>\n",
              "      <td>107500</td>\n",
              "      <td>1</td>\n",
              "    </tr>\n",
              "    <tr>\n",
              "      <th>4</th>\n",
              "      <td>661</td>\n",
              "      <td>Male</td>\n",
              "      <td>25</td>\n",
              "      <td>79000</td>\n",
              "      <td>0</td>\n",
              "    </tr>\n",
              "  </tbody>\n",
              "</table>\n",
              "</div>"
            ],
            "text/plain": [
              "   User ID Gender  Age  AnnualSalary  Purchased\n",
              "0      385   Male   35         20000          0\n",
              "1      681   Male   40         43500          0\n",
              "2      353   Male   49         74000          0\n",
              "3      895   Male   40        107500          1\n",
              "4      661   Male   25         79000          0"
            ]
          },
          "execution_count": 4,
          "metadata": {},
          "output_type": "execute_result"
        }
      ],
      "source": [
        "df = pd.read_csv(link) \n",
        "df.head() "
      ]
    },
    {
      "cell_type": "code",
      "execution_count": null,
      "id": "b070fa50",
      "metadata": {
        "execution": {
          "iopub.execute_input": "2022-08-11T13:26:09.008102Z",
          "iopub.status.busy": "2022-08-11T13:26:09.007699Z",
          "iopub.status.idle": "2022-08-11T13:26:09.045956Z",
          "shell.execute_reply": "2022-08-11T13:26:09.044705Z"
        },
        "papermill": {
          "duration": 0.048284,
          "end_time": "2022-08-11T13:26:09.048430",
          "exception": false,
          "start_time": "2022-08-11T13:26:09.000146",
          "status": "completed"
        },
        "tags": [],
        "id": "b070fa50",
        "outputId": "fb9578cb-8843-4d0c-fa27-da2586694035"
      },
      "outputs": [
        {
          "data": {
            "text/html": [
              "<div>\n",
              "<style scoped>\n",
              "    .dataframe tbody tr th:only-of-type {\n",
              "        vertical-align: middle;\n",
              "    }\n",
              "\n",
              "    .dataframe tbody tr th {\n",
              "        vertical-align: top;\n",
              "    }\n",
              "\n",
              "    .dataframe thead th {\n",
              "        text-align: right;\n",
              "    }\n",
              "</style>\n",
              "<table border=\"1\" class=\"dataframe\">\n",
              "  <thead>\n",
              "    <tr style=\"text-align: right;\">\n",
              "      <th></th>\n",
              "      <th>User ID</th>\n",
              "      <th>Gender</th>\n",
              "      <th>Age</th>\n",
              "      <th>AnnualSalary</th>\n",
              "      <th>Purchased</th>\n",
              "    </tr>\n",
              "  </thead>\n",
              "  <tbody>\n",
              "    <tr>\n",
              "      <th>count</th>\n",
              "      <td>1000.000000</td>\n",
              "      <td>1000</td>\n",
              "      <td>1000.000000</td>\n",
              "      <td>1000.000000</td>\n",
              "      <td>1000.000000</td>\n",
              "    </tr>\n",
              "    <tr>\n",
              "      <th>unique</th>\n",
              "      <td>NaN</td>\n",
              "      <td>2</td>\n",
              "      <td>NaN</td>\n",
              "      <td>NaN</td>\n",
              "      <td>NaN</td>\n",
              "    </tr>\n",
              "    <tr>\n",
              "      <th>top</th>\n",
              "      <td>NaN</td>\n",
              "      <td>Female</td>\n",
              "      <td>NaN</td>\n",
              "      <td>NaN</td>\n",
              "      <td>NaN</td>\n",
              "    </tr>\n",
              "    <tr>\n",
              "      <th>freq</th>\n",
              "      <td>NaN</td>\n",
              "      <td>516</td>\n",
              "      <td>NaN</td>\n",
              "      <td>NaN</td>\n",
              "      <td>NaN</td>\n",
              "    </tr>\n",
              "    <tr>\n",
              "      <th>mean</th>\n",
              "      <td>500.500000</td>\n",
              "      <td>NaN</td>\n",
              "      <td>40.106000</td>\n",
              "      <td>72689.000000</td>\n",
              "      <td>0.402000</td>\n",
              "    </tr>\n",
              "    <tr>\n",
              "      <th>std</th>\n",
              "      <td>288.819436</td>\n",
              "      <td>NaN</td>\n",
              "      <td>10.707073</td>\n",
              "      <td>34488.341867</td>\n",
              "      <td>0.490547</td>\n",
              "    </tr>\n",
              "    <tr>\n",
              "      <th>min</th>\n",
              "      <td>1.000000</td>\n",
              "      <td>NaN</td>\n",
              "      <td>18.000000</td>\n",
              "      <td>15000.000000</td>\n",
              "      <td>0.000000</td>\n",
              "    </tr>\n",
              "    <tr>\n",
              "      <th>25%</th>\n",
              "      <td>250.750000</td>\n",
              "      <td>NaN</td>\n",
              "      <td>32.000000</td>\n",
              "      <td>46375.000000</td>\n",
              "      <td>0.000000</td>\n",
              "    </tr>\n",
              "    <tr>\n",
              "      <th>50%</th>\n",
              "      <td>500.500000</td>\n",
              "      <td>NaN</td>\n",
              "      <td>40.000000</td>\n",
              "      <td>72000.000000</td>\n",
              "      <td>0.000000</td>\n",
              "    </tr>\n",
              "    <tr>\n",
              "      <th>75%</th>\n",
              "      <td>750.250000</td>\n",
              "      <td>NaN</td>\n",
              "      <td>48.000000</td>\n",
              "      <td>90000.000000</td>\n",
              "      <td>1.000000</td>\n",
              "    </tr>\n",
              "    <tr>\n",
              "      <th>max</th>\n",
              "      <td>1000.000000</td>\n",
              "      <td>NaN</td>\n",
              "      <td>63.000000</td>\n",
              "      <td>152500.000000</td>\n",
              "      <td>1.000000</td>\n",
              "    </tr>\n",
              "  </tbody>\n",
              "</table>\n",
              "</div>"
            ],
            "text/plain": [
              "            User ID  Gender          Age   AnnualSalary    Purchased\n",
              "count   1000.000000    1000  1000.000000    1000.000000  1000.000000\n",
              "unique          NaN       2          NaN            NaN          NaN\n",
              "top             NaN  Female          NaN            NaN          NaN\n",
              "freq            NaN     516          NaN            NaN          NaN\n",
              "mean     500.500000     NaN    40.106000   72689.000000     0.402000\n",
              "std      288.819436     NaN    10.707073   34488.341867     0.490547\n",
              "min        1.000000     NaN    18.000000   15000.000000     0.000000\n",
              "25%      250.750000     NaN    32.000000   46375.000000     0.000000\n",
              "50%      500.500000     NaN    40.000000   72000.000000     0.000000\n",
              "75%      750.250000     NaN    48.000000   90000.000000     1.000000\n",
              "max     1000.000000     NaN    63.000000  152500.000000     1.000000"
            ]
          },
          "execution_count": 5,
          "metadata": {},
          "output_type": "execute_result"
        }
      ],
      "source": [
        "df.describe(include=\"all\")  "
      ]
    },
    {
      "cell_type": "code",
      "execution_count": null,
      "id": "08d28d68",
      "metadata": {
        "execution": {
          "iopub.execute_input": "2022-08-11T13:26:09.064184Z",
          "iopub.status.busy": "2022-08-11T13:26:09.063332Z",
          "iopub.status.idle": "2022-08-11T13:26:09.077263Z",
          "shell.execute_reply": "2022-08-11T13:26:09.075818Z"
        },
        "papermill": {
          "duration": 0.02496,
          "end_time": "2022-08-11T13:26:09.080086",
          "exception": false,
          "start_time": "2022-08-11T13:26:09.055126",
          "status": "completed"
        },
        "tags": [],
        "id": "08d28d68",
        "outputId": "ca09ebfe-16b3-41bd-8dff-021fed624374"
      },
      "outputs": [
        {
          "data": {
            "text/html": [
              "<div>\n",
              "<style scoped>\n",
              "    .dataframe tbody tr th:only-of-type {\n",
              "        vertical-align: middle;\n",
              "    }\n",
              "\n",
              "    .dataframe tbody tr th {\n",
              "        vertical-align: top;\n",
              "    }\n",
              "\n",
              "    .dataframe thead th {\n",
              "        text-align: right;\n",
              "    }\n",
              "</style>\n",
              "<table border=\"1\" class=\"dataframe\">\n",
              "  <thead>\n",
              "    <tr style=\"text-align: right;\">\n",
              "      <th></th>\n",
              "      <th>User ID</th>\n",
              "      <th>Gender</th>\n",
              "      <th>Age</th>\n",
              "      <th>AnnualSalary</th>\n",
              "      <th>Purchased</th>\n",
              "      <th>male</th>\n",
              "    </tr>\n",
              "  </thead>\n",
              "  <tbody>\n",
              "    <tr>\n",
              "      <th>0</th>\n",
              "      <td>385</td>\n",
              "      <td>Male</td>\n",
              "      <td>35</td>\n",
              "      <td>20000</td>\n",
              "      <td>0</td>\n",
              "      <td>True</td>\n",
              "    </tr>\n",
              "    <tr>\n",
              "      <th>1</th>\n",
              "      <td>681</td>\n",
              "      <td>Male</td>\n",
              "      <td>40</td>\n",
              "      <td>43500</td>\n",
              "      <td>0</td>\n",
              "      <td>True</td>\n",
              "    </tr>\n",
              "    <tr>\n",
              "      <th>2</th>\n",
              "      <td>353</td>\n",
              "      <td>Male</td>\n",
              "      <td>49</td>\n",
              "      <td>74000</td>\n",
              "      <td>0</td>\n",
              "      <td>True</td>\n",
              "    </tr>\n",
              "    <tr>\n",
              "      <th>3</th>\n",
              "      <td>895</td>\n",
              "      <td>Male</td>\n",
              "      <td>40</td>\n",
              "      <td>107500</td>\n",
              "      <td>1</td>\n",
              "      <td>True</td>\n",
              "    </tr>\n",
              "    <tr>\n",
              "      <th>4</th>\n",
              "      <td>661</td>\n",
              "      <td>Male</td>\n",
              "      <td>25</td>\n",
              "      <td>79000</td>\n",
              "      <td>0</td>\n",
              "      <td>True</td>\n",
              "    </tr>\n",
              "  </tbody>\n",
              "</table>\n",
              "</div>"
            ],
            "text/plain": [
              "   User ID Gender  Age  AnnualSalary  Purchased  male\n",
              "0      385   Male   35         20000          0  True\n",
              "1      681   Male   40         43500          0  True\n",
              "2      353   Male   49         74000          0  True\n",
              "3      895   Male   40        107500          1  True\n",
              "4      661   Male   25         79000          0  True"
            ]
          },
          "execution_count": 6,
          "metadata": {},
          "output_type": "execute_result"
        }
      ],
      "source": [
        "df[\"male\"] = df[\"Gender\"] == \"Male\" \n",
        "df.head()"
      ]
    },
    {
      "cell_type": "code",
      "execution_count": null,
      "id": "2e2e2117",
      "metadata": {
        "execution": {
          "iopub.execute_input": "2022-08-11T13:26:09.095924Z",
          "iopub.status.busy": "2022-08-11T13:26:09.095551Z",
          "iopub.status.idle": "2022-08-11T13:26:09.108857Z",
          "shell.execute_reply": "2022-08-11T13:26:09.107803Z"
        },
        "papermill": {
          "duration": 0.024083,
          "end_time": "2022-08-11T13:26:09.111335",
          "exception": false,
          "start_time": "2022-08-11T13:26:09.087252",
          "status": "completed"
        },
        "tags": [],
        "id": "2e2e2117",
        "outputId": "9f697637-630e-44bc-a665-b44b5610907a"
      },
      "outputs": [
        {
          "data": {
            "text/html": [
              "<div>\n",
              "<style scoped>\n",
              "    .dataframe tbody tr th:only-of-type {\n",
              "        vertical-align: middle;\n",
              "    }\n",
              "\n",
              "    .dataframe tbody tr th {\n",
              "        vertical-align: top;\n",
              "    }\n",
              "\n",
              "    .dataframe thead th {\n",
              "        text-align: right;\n",
              "    }\n",
              "</style>\n",
              "<table border=\"1\" class=\"dataframe\">\n",
              "  <thead>\n",
              "    <tr style=\"text-align: right;\">\n",
              "      <th></th>\n",
              "      <th>User ID</th>\n",
              "      <th>Age</th>\n",
              "      <th>AnnualSalary</th>\n",
              "      <th>Purchased</th>\n",
              "      <th>male</th>\n",
              "    </tr>\n",
              "  </thead>\n",
              "  <tbody>\n",
              "    <tr>\n",
              "      <th>0</th>\n",
              "      <td>385</td>\n",
              "      <td>35</td>\n",
              "      <td>20000</td>\n",
              "      <td>0</td>\n",
              "      <td>True</td>\n",
              "    </tr>\n",
              "    <tr>\n",
              "      <th>1</th>\n",
              "      <td>681</td>\n",
              "      <td>40</td>\n",
              "      <td>43500</td>\n",
              "      <td>0</td>\n",
              "      <td>True</td>\n",
              "    </tr>\n",
              "    <tr>\n",
              "      <th>2</th>\n",
              "      <td>353</td>\n",
              "      <td>49</td>\n",
              "      <td>74000</td>\n",
              "      <td>0</td>\n",
              "      <td>True</td>\n",
              "    </tr>\n",
              "    <tr>\n",
              "      <th>3</th>\n",
              "      <td>895</td>\n",
              "      <td>40</td>\n",
              "      <td>107500</td>\n",
              "      <td>1</td>\n",
              "      <td>True</td>\n",
              "    </tr>\n",
              "    <tr>\n",
              "      <th>4</th>\n",
              "      <td>661</td>\n",
              "      <td>25</td>\n",
              "      <td>79000</td>\n",
              "      <td>0</td>\n",
              "      <td>True</td>\n",
              "    </tr>\n",
              "  </tbody>\n",
              "</table>\n",
              "</div>"
            ],
            "text/plain": [
              "   User ID  Age  AnnualSalary  Purchased  male\n",
              "0      385   35         20000          0  True\n",
              "1      681   40         43500          0  True\n",
              "2      353   49         74000          0  True\n",
              "3      895   40        107500          1  True\n",
              "4      661   25         79000          0  True"
            ]
          },
          "execution_count": 7,
          "metadata": {},
          "output_type": "execute_result"
        }
      ],
      "source": [
        "df.drop(\"Gender\", axis=1, inplace=True) \n",
        "df.head() "
      ]
    },
    {
      "cell_type": "code",
      "execution_count": null,
      "id": "8d0f769a",
      "metadata": {
        "execution": {
          "iopub.execute_input": "2022-08-11T13:26:09.127143Z",
          "iopub.status.busy": "2022-08-11T13:26:09.126754Z",
          "iopub.status.idle": "2022-08-11T13:26:09.134142Z",
          "shell.execute_reply": "2022-08-11T13:26:09.133354Z"
        },
        "papermill": {
          "duration": 0.017888,
          "end_time": "2022-08-11T13:26:09.136085",
          "exception": false,
          "start_time": "2022-08-11T13:26:09.118197",
          "status": "completed"
        },
        "tags": [],
        "id": "8d0f769a",
        "outputId": "29db10a5-747b-4610-ba89-0e061618dbdd"
      },
      "outputs": [
        {
          "data": {
            "text/plain": [
              "0    598\n",
              "1    402\n",
              "Name: Purchased, dtype: int64"
            ]
          },
          "execution_count": 8,
          "metadata": {},
          "output_type": "execute_result"
        }
      ],
      "source": [
        "df.Purchased.value_counts() "
      ]
    },
    {
      "cell_type": "code",
      "execution_count": null,
      "id": "ad4b1306",
      "metadata": {
        "execution": {
          "iopub.execute_input": "2022-08-11T13:26:09.152591Z",
          "iopub.status.busy": "2022-08-11T13:26:09.151530Z",
          "iopub.status.idle": "2022-08-11T13:26:09.158240Z",
          "shell.execute_reply": "2022-08-11T13:26:09.157403Z"
        },
        "papermill": {
          "duration": 0.017081,
          "end_time": "2022-08-11T13:26:09.160304",
          "exception": false,
          "start_time": "2022-08-11T13:26:09.143223",
          "status": "completed"
        },
        "tags": [],
        "id": "ad4b1306"
      },
      "outputs": [],
      "source": [
        "X = df[[\"Age\", \"AnnualSalary\", \"male\"]].values\n",
        "y = df[\"Purchased\"].values"
      ]
    },
    {
      "cell_type": "code",
      "execution_count": null,
      "id": "18f16942",
      "metadata": {
        "execution": {
          "iopub.execute_input": "2022-08-11T13:26:09.176685Z",
          "iopub.status.busy": "2022-08-11T13:26:09.175946Z",
          "iopub.status.idle": "2022-08-11T13:26:10.360399Z",
          "shell.execute_reply": "2022-08-11T13:26:10.359324Z"
        },
        "papermill": {
          "duration": 1.195732,
          "end_time": "2022-08-11T13:26:10.363145",
          "exception": false,
          "start_time": "2022-08-11T13:26:09.167413",
          "status": "completed"
        },
        "tags": [],
        "id": "18f16942"
      },
      "outputs": [],
      "source": [
        "from sklearn.model_selection import GridSearchCV\n",
        "param_grid = {\n",
        "    \"max_depth\": [3,5,7,10,15,20],\n",
        "    \"min_samples_leaf\": [1,3],\n",
        "    \"max_leaf_nodes\": [10,20,35,50]\n",
        "    }"
      ]
    },
    {
      "cell_type": "code",
      "execution_count": null,
      "id": "6414c455",
      "metadata": {
        "execution": {
          "iopub.execute_input": "2022-08-11T13:26:10.379323Z",
          "iopub.status.busy": "2022-08-11T13:26:10.378610Z",
          "iopub.status.idle": "2022-08-11T13:26:10.557480Z",
          "shell.execute_reply": "2022-08-11T13:26:10.556094Z"
        },
        "papermill": {
          "duration": 0.189854,
          "end_time": "2022-08-11T13:26:10.560148",
          "exception": false,
          "start_time": "2022-08-11T13:26:10.370294",
          "status": "completed"
        },
        "tags": [],
        "id": "6414c455"
      },
      "outputs": [],
      "source": [
        "from sklearn.tree import DecisionTreeClassifier\n",
        "modelo = DecisionTreeClassifier(criterion=\"entropy\")"
      ]
    },
    {
      "cell_type": "code",
      "execution_count": null,
      "id": "8a87e158",
      "metadata": {
        "execution": {
          "iopub.execute_input": "2022-08-11T13:26:10.576244Z",
          "iopub.status.busy": "2022-08-11T13:26:10.575560Z",
          "iopub.status.idle": "2022-08-11T13:26:10.582104Z",
          "shell.execute_reply": "2022-08-11T13:26:10.581149Z"
        },
        "papermill": {
          "duration": 0.016939,
          "end_time": "2022-08-11T13:26:10.584349",
          "exception": false,
          "start_time": "2022-08-11T13:26:10.567410",
          "status": "completed"
        },
        "tags": [],
        "id": "8a87e158"
      },
      "outputs": [],
      "source": [
        "from sklearn.model_selection import train_test_split\n",
        "X_train, X_test, y_train, y_test = train_test_split(X,y, test_size=0.3, random_state=5)"
      ]
    },
    {
      "cell_type": "code",
      "execution_count": null,
      "id": "ce880429",
      "metadata": {
        "execution": {
          "iopub.execute_input": "2022-08-11T13:26:10.600680Z",
          "iopub.status.busy": "2022-08-11T13:26:10.599863Z",
          "iopub.status.idle": "2022-08-11T13:26:11.224996Z",
          "shell.execute_reply": "2022-08-11T13:26:11.223765Z"
        },
        "papermill": {
          "duration": 0.636176,
          "end_time": "2022-08-11T13:26:11.227634",
          "exception": false,
          "start_time": "2022-08-11T13:26:10.591458",
          "status": "completed"
        },
        "tags": [],
        "id": "ce880429",
        "outputId": "bb69bca4-f709-4709-8232-9d97b00ed893"
      },
      "outputs": [
        {
          "name": "stdout",
          "output_type": "stream",
          "text": [
            "{'max_depth': 5, 'max_leaf_nodes': 35, 'min_samples_leaf': 1}\n"
          ]
        }
      ],
      "source": [
        "gs = GridSearchCV(modelo, param_grid, scoring=\"f1\", cv=5) \n",
        "gs.fit(X_train, y_train)\n",
        "print(gs.best_params_)"
      ]
    },
    {
      "cell_type": "code",
      "execution_count": null,
      "id": "1c70700e",
      "metadata": {
        "execution": {
          "iopub.execute_input": "2022-08-11T13:26:11.244564Z",
          "iopub.status.busy": "2022-08-11T13:26:11.243789Z",
          "iopub.status.idle": "2022-08-11T13:26:11.250288Z",
          "shell.execute_reply": "2022-08-11T13:26:11.248944Z"
        },
        "papermill": {
          "duration": 0.017712,
          "end_time": "2022-08-11T13:26:11.252724",
          "exception": false,
          "start_time": "2022-08-11T13:26:11.235012",
          "status": "completed"
        },
        "tags": [],
        "id": "1c70700e",
        "outputId": "aeb568b6-9ce6-41b4-8fd0-3551a1c31b51"
      },
      "outputs": [
        {
          "name": "stdout",
          "output_type": "stream",
          "text": [
            "0.883600746632329\n"
          ]
        }
      ],
      "source": [
        "print(gs.best_score_) "
      ]
    },
    {
      "cell_type": "code",
      "execution_count": null,
      "id": "452c0992",
      "metadata": {
        "execution": {
          "iopub.execute_input": "2022-08-11T13:26:11.269482Z",
          "iopub.status.busy": "2022-08-11T13:26:11.268253Z",
          "iopub.status.idle": "2022-08-11T13:26:11.279829Z",
          "shell.execute_reply": "2022-08-11T13:26:11.278917Z"
        },
        "papermill": {
          "duration": 0.022152,
          "end_time": "2022-08-11T13:26:11.282056",
          "exception": false,
          "start_time": "2022-08-11T13:26:11.259904",
          "status": "completed"
        },
        "tags": [],
        "id": "452c0992",
        "outputId": "b79f39d2-5f70-43c6-f601-3928362a0774"
      },
      "outputs": [
        {
          "data": {
            "text/plain": [
              "0.8842975206611571"
            ]
          },
          "execution_count": 15,
          "metadata": {},
          "output_type": "execute_result"
        }
      ],
      "source": [
        "finalmodel = DecisionTreeClassifier(\n",
        "    criterion=\"entropy\",\n",
        "    max_depth= gs.best_params_[\"max_depth\"],\n",
        "    min_samples_leaf= gs.best_params_[\"min_samples_leaf\"],\n",
        "    max_leaf_nodes = gs.best_params_[\"max_leaf_nodes\"]\n",
        "    )\n",
        "finalmodel.fit(X_train, y_train)\n",
        "y_pred = finalmodel.predict(X_test)\n",
        "\n",
        "from sklearn.metrics import precision_score, recall_score, f1_score, accuracy_score\n",
        "precision_score(y_test,y_pred)"
      ]
    },
    {
      "cell_type": "code",
      "execution_count": null,
      "id": "0922e690",
      "metadata": {
        "execution": {
          "iopub.execute_input": "2022-08-11T13:26:11.299507Z",
          "iopub.status.busy": "2022-08-11T13:26:11.298775Z",
          "iopub.status.idle": "2022-08-11T13:26:11.304162Z",
          "shell.execute_reply": "2022-08-11T13:26:11.303360Z"
        },
        "papermill": {
          "duration": 0.016287,
          "end_time": "2022-08-11T13:26:11.306341",
          "exception": false,
          "start_time": "2022-08-11T13:26:11.290054",
          "status": "completed"
        },
        "tags": [],
        "id": "0922e690"
      },
      "outputs": [],
      "source": [
        "ps = precision_score(y_test, y_pred) "
      ]
    },
    {
      "cell_type": "code",
      "execution_count": null,
      "id": "5ee18a63",
      "metadata": {
        "execution": {
          "iopub.execute_input": "2022-08-11T13:26:11.323262Z",
          "iopub.status.busy": "2022-08-11T13:26:11.322546Z",
          "iopub.status.idle": "2022-08-11T13:26:11.330122Z",
          "shell.execute_reply": "2022-08-11T13:26:11.329134Z"
        },
        "papermill": {
          "duration": 0.018598,
          "end_time": "2022-08-11T13:26:11.332326",
          "exception": false,
          "start_time": "2022-08-11T13:26:11.313728",
          "status": "completed"
        },
        "tags": [],
        "id": "5ee18a63",
        "outputId": "d35cef1f-2a2b-49d1-d3a1-a9c7e10518bd"
      },
      "outputs": [
        {
          "data": {
            "text/plain": [
              "array([[165,  14],\n",
              "       [ 14, 107]])"
            ]
          },
          "execution_count": 17,
          "metadata": {},
          "output_type": "execute_result"
        }
      ],
      "source": [
        "from sklearn.metrics import confusion_matrix\n",
        "cmx = confusion_matrix(y_test, y_pred) \n",
        "cmx "
      ]
    },
    {
      "cell_type": "code",
      "execution_count": null,
      "id": "8a5349bf",
      "metadata": {
        "execution": {
          "iopub.execute_input": "2022-08-11T13:26:11.349605Z",
          "iopub.status.busy": "2022-08-11T13:26:11.348830Z",
          "iopub.status.idle": "2022-08-11T13:26:11.616051Z",
          "shell.execute_reply": "2022-08-11T13:26:11.614889Z"
        },
        "papermill": {
          "duration": 0.278712,
          "end_time": "2022-08-11T13:26:11.618619",
          "exception": false,
          "start_time": "2022-08-11T13:26:11.339907",
          "status": "completed"
        },
        "tags": [],
        "id": "8a5349bf",
        "outputId": "4a18c9c6-bc46-4715-a391-91a8ba3eac5e"
      },
      "outputs": [
        {
          "data": {
            "image/png": "[encoded data removed]",
            "text/plain": [
              "<Figure size 432x288 with 2 Axes>"
            ]
          },
          "metadata": {
            "needs_background": "light"
          },
          "output_type": "display_data"
        }
      ],
      "source": [
        "import matplotlib.pyplot as plt\n",
        "import warnings\n",
        "warnings.filterwarnings(\"ignore\") \n",
        "from sklearn.metrics import plot_confusion_matrix \n",
        "plot_confusion_matrix(finalmodel, X_test, y_test, cmap=plt.cm.Blues)\n",
        "plt.show() "
      ]
    },
    {
      "cell_type": "code",
      "execution_count": null,
      "id": "1b1805de",
      "metadata": {
        "execution": {
          "iopub.execute_input": "2022-08-11T13:26:11.636256Z",
          "iopub.status.busy": "2022-08-11T13:26:11.635226Z",
          "iopub.status.idle": "2022-08-11T13:26:11.644298Z",
          "shell.execute_reply": "2022-08-11T13:26:11.642724Z"
        },
        "papermill": {
          "duration": 0.020611,
          "end_time": "2022-08-11T13:26:11.646897",
          "exception": false,
          "start_time": "2022-08-11T13:26:11.626286",
          "status": "completed"
        },
        "tags": [],
        "id": "1b1805de",
        "outputId": "0155ec6c-d8e0-4a45-bb78-2e02cae2b85b"
      },
      "outputs": [
        {
          "data": {
            "text/plain": [
              "0.8842975206611571"
            ]
          },
          "execution_count": 19,
          "metadata": {},
          "output_type": "execute_result"
        }
      ],
      "source": [
        "recall_score(y_test, y_pred) "
      ]
    },
    {
      "cell_type": "code",
      "execution_count": null,
      "id": "15cd8e90",
      "metadata": {
        "execution": {
          "iopub.execute_input": "2022-08-11T13:26:11.665270Z",
          "iopub.status.busy": "2022-08-11T13:26:11.664238Z",
          "iopub.status.idle": "2022-08-11T13:26:11.673024Z",
          "shell.execute_reply": "2022-08-11T13:26:11.671722Z"
        },
        "papermill": {
          "duration": 0.020587,
          "end_time": "2022-08-11T13:26:11.675524",
          "exception": false,
          "start_time": "2022-08-11T13:26:11.654937",
          "status": "completed"
        },
        "tags": [],
        "id": "15cd8e90",
        "outputId": "0e607ea3-e0ca-44c4-d4b4-51fd51c7ad5f"
      },
      "outputs": [
        {
          "data": {
            "text/plain": [
              "0.8842975206611571"
            ]
          },
          "execution_count": 20,
          "metadata": {},
          "output_type": "execute_result"
        }
      ],
      "source": [
        "f1_score(y_test, y_pred) "
      ]
    },
    {
      "cell_type": "code",
      "execution_count": null,
      "id": "c53bd6c0",
      "metadata": {
        "execution": {
          "iopub.execute_input": "2022-08-11T13:26:11.693752Z",
          "iopub.status.busy": "2022-08-11T13:26:11.693322Z",
          "iopub.status.idle": "2022-08-11T13:26:11.701017Z",
          "shell.execute_reply": "2022-08-11T13:26:11.700118Z"
        },
        "papermill": {
          "duration": 0.019428,
          "end_time": "2022-08-11T13:26:11.703111",
          "exception": false,
          "start_time": "2022-08-11T13:26:11.683683",
          "status": "completed"
        },
        "tags": [],
        "id": "c53bd6c0",
        "outputId": "e7ca6891-1f41-431a-e6ee-0b18f7eab607"
      },
      "outputs": [
        {
          "data": {
            "text/plain": [
              "0.9066666666666666"
            ]
          },
          "execution_count": 21,
          "metadata": {},
          "output_type": "execute_result"
        }
      ],
      "source": [
        "accuracy_score(y_test, y_pred) "
      ]
    },
    {
      "cell_type": "code",
      "execution_count": null,
      "id": "098fd428",
      "metadata": {
        "_kg_hide-input": true,
        "execution": {
          "iopub.execute_input": "2022-08-11T13:26:11.721419Z",
          "iopub.status.busy": "2022-08-11T13:26:11.720757Z",
          "iopub.status.idle": "2022-08-11T13:26:11.728573Z",
          "shell.execute_reply": "2022-08-11T13:26:11.727353Z"
        },
        "papermill": {
          "duration": 0.021163,
          "end_time": "2022-08-11T13:26:11.732332",
          "exception": false,
          "start_time": "2022-08-11T13:26:11.711169",
          "status": "completed"
        },
        "tags": [],
        "id": "098fd428",
        "outputId": "dde20d6c-e7b8-4027-e7d2-a7726c754680"
      },
      "outputs": [
        {
          "name": "stdout",
          "output_type": "stream",
          "text": [
            "-----------------------\n",
            " \n",
            " \n",
            "Conclusión\n",
            "\n",
            "El modelo tiene una precisión del 88 %. Acertando al predecir correctamente 107 valores positivos, y 165 valores negativos. Solo fallando en 28 valores.\n",
            " \n",
            " \n",
            "-----------------------\n"
          ]
        }
      ],
      "source": [
        "print(\"-----------------------\")\n",
        "print(\" \\n \" ) \n",
        "print(\"Conclusión\") \n",
        "print(\"\") \n",
        "print( \"El modelo tiene una precisión del\", int((ps*100).round(0)), \"%. Acertando al predecir correctamente\", cmx[1][1], \"valores positivos, y\", cmx[0][0], \"valores negativos. Solo fallando en\", cmx[0][1]+cmx[1][0], \"valores.\")  \n",
        "print(\" \\n \")\n",
        "print(\"-----------------------\") "
      ]
    },
    {
      "cell_type": "code",
      "execution_count": null,
      "id": "972dce31",
      "metadata": {
        "execution": {
          "iopub.execute_input": "2022-08-11T13:26:11.751621Z",
          "iopub.status.busy": "2022-08-11T13:26:11.750817Z",
          "iopub.status.idle": "2022-08-11T13:26:12.897153Z",
          "shell.execute_reply": "2022-08-11T13:26:12.895767Z"
        },
        "papermill": {
          "duration": 1.159326,
          "end_time": "2022-08-11T13:26:12.900258",
          "exception": false,
          "start_time": "2022-08-11T13:26:11.740932",
          "status": "completed"
        },
        "tags": [],
        "id": "972dce31",
        "outputId": "2409a324-34c4-4bb3-8fe9-4ae73566db3b"
      },
      "outputs": [
        {
          "data": {
            "image/svg+xml": [
              "<?xml version=\"1.0\" encoding=\"UTF-8\" standalone=\"no\"?>\n",
              "<!DOCTYPE svg PUBLIC \"-//W3C//DTD SVG 1.1//EN\"\n",
              " \"http://www.w3.org/Graphics/SVG/1.1/DTD/svg11.dtd\">\n",
              "<!-- Generated by graphviz version 5.0.0 (20220707.2338)\n",
              " -->\n",
              "<!-- Title: Tree Pages: 1 -->\n",
              "<svg width=\"2290pt\" height=\"581pt\"\n",
              " viewBox=\"0.00 0.00 2290.00 581.00\" xmlns=\"http://www.w3.org/2000/svg\" xmlns:xlink=\"http://www.w3.org/1999/xlink\">\n",
              "<g id=\"graph0\" class=\"graph\" transform=\"scale(1 1) rotate(0) translate(4 577)\">\n",
              "<title>Tree</title>\n",
              "<polygon fill=\"white\" stroke=\"transparent\" points=\"-4,4 -4,-577 2286,-577 2286,4 -4,4\"/>\n",
              "<!-- 0 -->\n",
              "<g id=\"node1\" class=\"node\">\n",
              "<title>0</title>\n",
              "<polygon fill=\"none\" stroke=\"black\" points=\"976.5,-573 827.5,-573 827.5,-505 976.5,-505 976.5,-573\"/>\n",
              "<text text-anchor=\"middle\" x=\"902\" y=\"-557.8\" font-family=\"Helvetica,sans-Serif\" font-size=\"14.00\">Age &lt;= 45.5</text>\n",
              "<text text-anchor=\"middle\" x=\"902\" y=\"-542.8\" font-family=\"Helvetica,sans-Serif\" font-size=\"14.00\">entropy = 0.972</text>\n",
              "<text text-anchor=\"middle\" x=\"902\" y=\"-527.8\" font-family=\"Helvetica,sans-Serif\" font-size=\"14.00\">samples = 700</text>\n",
              "<text text-anchor=\"middle\" x=\"902\" y=\"-512.8\" font-family=\"Helvetica,sans-Serif\" font-size=\"14.00\">value = [419, 281]</text>\n",
              "</g>\n",
              "<!-- 1 -->\n",
              "<g id=\"node2\" class=\"node\">\n",
              "<title>1</title>\n",
              "<polygon fill=\"none\" stroke=\"black\" points=\"752,-469 552,-469 552,-401 752,-401 752,-469\"/>\n",
              "<text text-anchor=\"middle\" x=\"652\" y=\"-453.8\" font-family=\"Helvetica,sans-Serif\" font-size=\"14.00\">AnnualSalary &lt;= 92000.0</text>\n",
              "<text text-anchor=\"middle\" x=\"652\" y=\"-438.8\" font-family=\"Helvetica,sans-Serif\" font-size=\"14.00\">entropy = 0.72</text>\n",
              "<text text-anchor=\"middle\" x=\"652\" y=\"-423.8\" font-family=\"Helvetica,sans-Serif\" font-size=\"14.00\">samples = 482</text>\n",
              "<text text-anchor=\"middle\" x=\"652\" y=\"-408.8\" font-family=\"Helvetica,sans-Serif\" font-size=\"14.00\">value = [386, 96]</text>\n",
              "</g>\n",
              "<!-- 0&#45;&gt;1 -->\n",
              "<g id=\"edge1\" class=\"edge\">\n",
              "<title>0&#45;&gt;1</title>\n",
              "<path fill=\"none\" stroke=\"black\" d=\"M827.33,-507.53C800.7,-496.67 770.41,-484.31 742.59,-472.96\"/>\n",
              "<polygon fill=\"black\" stroke=\"black\" points=\"743.84,-469.69 733.26,-469.15 741.2,-476.17 743.84,-469.69\"/>\n",
              "<text text-anchor=\"middle\" x=\"742.95\" y=\"-488.5\" font-family=\"Helvetica,sans-Serif\" font-size=\"14.00\">True</text>\n",
              "</g>\n",
              "<!-- 2 -->\n",
              "<g id=\"node21\" class=\"node\">\n",
              "<title>2</title>\n",
              "<polygon fill=\"none\" stroke=\"black\" points=\"1384,-469 1184,-469 1184,-401 1384,-401 1384,-469\"/>\n",
              "<text text-anchor=\"middle\" x=\"1284\" y=\"-453.8\" font-family=\"Helvetica,sans-Serif\" font-size=\"14.00\">AnnualSalary &lt;= 41750.0</text>\n",
              "<text text-anchor=\"middle\" x=\"1284\" y=\"-438.8\" font-family=\"Helvetica,sans-Serif\" font-size=\"14.00\">entropy = 0.613</text>\n",
              "<text text-anchor=\"middle\" x=\"1284\" y=\"-423.8\" font-family=\"Helvetica,sans-Serif\" font-size=\"14.00\">samples = 218</text>\n",
              "<text text-anchor=\"middle\" x=\"1284\" y=\"-408.8\" font-family=\"Helvetica,sans-Serif\" font-size=\"14.00\">value = [33, 185]</text>\n",
              "</g>\n",
              "<!-- 0&#45;&gt;2 -->\n",
              "<g id=\"edge20\" class=\"edge\">\n",
              "<title>0&#45;&gt;2</title>\n",
              "<path fill=\"none\" stroke=\"black\" d=\"M976.56,-518.09C1032.72,-503.09 1110.61,-482.3 1173.93,-465.39\"/>\n",
              "<polygon fill=\"black\" stroke=\"black\" points=\"1175.2,-468.67 1183.96,-462.71 1173.4,-461.91 1175.2,-468.67\"/>\n",
              "<text text-anchor=\"middle\" x=\"1171.44\" y=\"-480.65\" font-family=\"Helvetica,sans-Serif\" font-size=\"14.00\">False</text>\n",
              "</g>\n",
              "<!-- 3 -->\n",
              "<g id=\"node3\" class=\"node\">\n",
              "<title>3</title>\n",
              "<polygon fill=\"none\" stroke=\"black\" points=\"513,-365 373,-365 373,-297 513,-297 513,-365\"/>\n",
              "<text text-anchor=\"middle\" x=\"443\" y=\"-349.8\" font-family=\"Helvetica,sans-Serif\" font-size=\"14.00\">Age &lt;= 36.5</text>\n",
              "<text text-anchor=\"middle\" x=\"443\" y=\"-334.8\" font-family=\"Helvetica,sans-Serif\" font-size=\"14.00\">entropy = 0.355</text>\n",
              "<text text-anchor=\"middle\" x=\"443\" y=\"-319.8\" font-family=\"Helvetica,sans-Serif\" font-size=\"14.00\">samples = 402</text>\n",
              "<text text-anchor=\"middle\" x=\"443\" y=\"-304.8\" font-family=\"Helvetica,sans-Serif\" font-size=\"14.00\">value = [375, 27]</text>\n",
              "</g>\n",
              "<!-- 1&#45;&gt;3 -->\n",
              "<g id=\"edge2\" class=\"edge\">\n",
              "<title>1&#45;&gt;3</title>\n",
              "<path fill=\"none\" stroke=\"black\" d=\"M584.14,-400.88C563.69,-390.9 541.09,-379.87 520.08,-369.62\"/>\n",
              "<polygon fill=\"black\" stroke=\"black\" points=\"521.4,-366.37 510.87,-365.12 518.33,-372.66 521.4,-366.37\"/>\n",
              "</g>\n",
              "<!-- 4 -->\n",
              "<g id=\"node12\" class=\"node\">\n",
              "<title>4</title>\n",
              "<polygon fill=\"none\" stroke=\"black\" points=\"756.5,-365 547.5,-365 547.5,-297 756.5,-297 756.5,-365\"/>\n",
              "<text text-anchor=\"middle\" x=\"652\" y=\"-349.8\" font-family=\"Helvetica,sans-Serif\" font-size=\"14.00\">AnnualSalary &lt;= 111250.0</text>\n",
              "<text text-anchor=\"middle\" x=\"652\" y=\"-334.8\" font-family=\"Helvetica,sans-Serif\" font-size=\"14.00\">entropy = 0.578</text>\n",
              "<text text-anchor=\"middle\" x=\"652\" y=\"-319.8\" font-family=\"Helvetica,sans-Serif\" font-size=\"14.00\">samples = 80</text>\n",
              "<text text-anchor=\"middle\" x=\"652\" y=\"-304.8\" font-family=\"Helvetica,sans-Serif\" font-size=\"14.00\">value = [11, 69]</text>\n",
              "</g>\n",
              "<!-- 1&#45;&gt;4 -->\n",
              "<g id=\"edge11\" class=\"edge\">\n",
              "<title>1&#45;&gt;4</title>\n",
              "<path fill=\"none\" stroke=\"black\" d=\"M652,-400.88C652,-392.78 652,-383.98 652,-375.47\"/>\n",
              "<polygon fill=\"black\" stroke=\"black\" points=\"655.5,-375.3 652,-365.3 648.5,-375.3 655.5,-375.3\"/>\n",
              "</g>\n",
              "<!-- 5 -->\n",
              "<g id=\"node4\" class=\"node\">\n",
              "<title>5</title>\n",
              "<polygon fill=\"none\" stroke=\"black\" points=\"324.5,-253.5 193.5,-253.5 193.5,-200.5 324.5,-200.5 324.5,-253.5\"/>\n",
              "<text text-anchor=\"middle\" x=\"259\" y=\"-238.3\" font-family=\"Helvetica,sans-Serif\" font-size=\"14.00\">entropy = 0.0</text>\n",
              "<text text-anchor=\"middle\" x=\"259\" y=\"-223.3\" font-family=\"Helvetica,sans-Serif\" font-size=\"14.00\">samples = 222</text>\n",
              "<text text-anchor=\"middle\" x=\"259\" y=\"-208.3\" font-family=\"Helvetica,sans-Serif\" font-size=\"14.00\">value = [222, 0]</text>\n",
              "</g>\n",
              "<!-- 3&#45;&gt;5 -->\n",
              "<g id=\"edge3\" class=\"edge\">\n",
              "<title>3&#45;&gt;5</title>\n",
              "<path fill=\"none\" stroke=\"black\" d=\"M383.26,-296.88C360.94,-284.51 335.72,-270.53 313.86,-258.41\"/>\n",
              "<polygon fill=\"black\" stroke=\"black\" points=\"315.48,-255.31 305.04,-253.52 312.09,-261.43 315.48,-255.31\"/>\n",
              "</g>\n",
              "<!-- 6 -->\n",
              "<g id=\"node5\" class=\"node\">\n",
              "<title>6</title>\n",
              "<polygon fill=\"none\" stroke=\"black\" points=\"543,-261 343,-261 343,-193 543,-193 543,-261\"/>\n",
              "<text text-anchor=\"middle\" x=\"443\" y=\"-245.8\" font-family=\"Helvetica,sans-Serif\" font-size=\"14.00\">AnnualSalary &lt;= 68750.0</text>\n",
              "<text text-anchor=\"middle\" x=\"443\" y=\"-230.8\" font-family=\"Helvetica,sans-Serif\" font-size=\"14.00\">entropy = 0.61</text>\n",
              "<text text-anchor=\"middle\" x=\"443\" y=\"-215.8\" font-family=\"Helvetica,sans-Serif\" font-size=\"14.00\">samples = 180</text>\n",
              "<text text-anchor=\"middle\" x=\"443\" y=\"-200.8\" font-family=\"Helvetica,sans-Serif\" font-size=\"14.00\">value = [153, 27]</text>\n",
              "</g>\n",
              "<!-- 3&#45;&gt;6 -->\n",
              "<g id=\"edge4\" class=\"edge\">\n",
              "<title>3&#45;&gt;6</title>\n",
              "<path fill=\"none\" stroke=\"black\" d=\"M443,-296.88C443,-288.78 443,-279.98 443,-271.47\"/>\n",
              "<polygon fill=\"black\" stroke=\"black\" points=\"446.5,-271.3 443,-261.3 439.5,-271.3 446.5,-271.3\"/>\n",
              "</g>\n",
              "<!-- 7 -->\n",
              "<g id=\"node6\" class=\"node\">\n",
              "<title>7</title>\n",
              "<polygon fill=\"none\" stroke=\"black\" points=\"271.5,-157 140.5,-157 140.5,-89 271.5,-89 271.5,-157\"/>\n",
              "<text text-anchor=\"middle\" x=\"206\" y=\"-141.8\" font-family=\"Helvetica,sans-Serif\" font-size=\"14.00\">Age &lt;= 44.5</text>\n",
              "<text text-anchor=\"middle\" x=\"206\" y=\"-126.8\" font-family=\"Helvetica,sans-Serif\" font-size=\"14.00\">entropy = 0.216</text>\n",
              "<text text-anchor=\"middle\" x=\"206\" y=\"-111.8\" font-family=\"Helvetica,sans-Serif\" font-size=\"14.00\">samples = 87</text>\n",
              "<text text-anchor=\"middle\" x=\"206\" y=\"-96.8\" font-family=\"Helvetica,sans-Serif\" font-size=\"14.00\">value = [84, 3]</text>\n",
              "</g>\n",
              "<!-- 6&#45;&gt;7 -->\n",
              "<g id=\"edge5\" class=\"edge\">\n",
              "<title>6&#45;&gt;7</title>\n",
              "<path fill=\"none\" stroke=\"black\" d=\"M366.05,-192.88C338.85,-181.18 308.3,-168.03 281.24,-156.38\"/>\n",
              "<polygon fill=\"black\" stroke=\"black\" points=\"282.39,-153.07 271.82,-152.33 279.63,-159.5 282.39,-153.07\"/>\n",
              "</g>\n",
              "<!-- 8 -->\n",
              "<g id=\"node9\" class=\"node\">\n",
              "<title>8</title>\n",
              "<polygon fill=\"none\" stroke=\"black\" points=\"543,-157 343,-157 343,-89 543,-89 543,-157\"/>\n",
              "<text text-anchor=\"middle\" x=\"443\" y=\"-141.8\" font-family=\"Helvetica,sans-Serif\" font-size=\"14.00\">AnnualSalary &lt;= 84750.0</text>\n",
              "<text text-anchor=\"middle\" x=\"443\" y=\"-126.8\" font-family=\"Helvetica,sans-Serif\" font-size=\"14.00\">entropy = 0.824</text>\n",
              "<text text-anchor=\"middle\" x=\"443\" y=\"-111.8\" font-family=\"Helvetica,sans-Serif\" font-size=\"14.00\">samples = 93</text>\n",
              "<text text-anchor=\"middle\" x=\"443\" y=\"-96.8\" font-family=\"Helvetica,sans-Serif\" font-size=\"14.00\">value = [69, 24]</text>\n",
              "</g>\n",
              "<!-- 6&#45;&gt;8 -->\n",
              "<g id=\"edge8\" class=\"edge\">\n",
              "<title>6&#45;&gt;8</title>\n",
              "<path fill=\"none\" stroke=\"black\" d=\"M443,-192.88C443,-184.78 443,-175.98 443,-167.47\"/>\n",
              "<polygon fill=\"black\" stroke=\"black\" points=\"446.5,-167.3 443,-157.3 439.5,-167.3 446.5,-167.3\"/>\n",
              "</g>\n",
              "<!-- 13 -->\n",
              "<g id=\"node7\" class=\"node\">\n",
              "<title>13</title>\n",
              "<polygon fill=\"none\" stroke=\"black\" points=\"122,-53 0,-53 0,0 122,0 122,-53\"/>\n",
              "<text text-anchor=\"middle\" x=\"61\" y=\"-37.8\" font-family=\"Helvetica,sans-Serif\" font-size=\"14.00\">entropy = 0.0</text>\n",
              "<text text-anchor=\"middle\" x=\"61\" y=\"-22.8\" font-family=\"Helvetica,sans-Serif\" font-size=\"14.00\">samples = 79</text>\n",
              "<text text-anchor=\"middle\" x=\"61\" y=\"-7.8\" font-family=\"Helvetica,sans-Serif\" font-size=\"14.00\">value = [79, 0]</text>\n",
              "</g>\n",
              "<!-- 7&#45;&gt;13 -->\n",
              "<g id=\"edge6\" class=\"edge\">\n",
              "<title>7&#45;&gt;13</title>\n",
              "<path fill=\"none\" stroke=\"black\" d=\"M155.29,-88.95C140.27,-79.16 123.87,-68.48 109.03,-58.8\"/>\n",
              "<polygon fill=\"black\" stroke=\"black\" points=\"110.78,-55.76 100.49,-53.24 106.96,-61.63 110.78,-55.76\"/>\n",
              "</g>\n",
              "<!-- 14 -->\n",
              "<g id=\"node8\" class=\"node\">\n",
              "<title>14</title>\n",
              "<polygon fill=\"none\" stroke=\"black\" points=\"271.5,-53 140.5,-53 140.5,0 271.5,0 271.5,-53\"/>\n",
              "<text text-anchor=\"middle\" x=\"206\" y=\"-37.8\" font-family=\"Helvetica,sans-Serif\" font-size=\"14.00\">entropy = 0.954</text>\n",
              "<text text-anchor=\"middle\" x=\"206\" y=\"-22.8\" font-family=\"Helvetica,sans-Serif\" font-size=\"14.00\">samples = 8</text>\n",
              "<text text-anchor=\"middle\" x=\"206\" y=\"-7.8\" font-family=\"Helvetica,sans-Serif\" font-size=\"14.00\">value = [5, 3]</text>\n",
              "</g>\n",
              "<!-- 7&#45;&gt;14 -->\n",
              "<g id=\"edge7\" class=\"edge\">\n",
              "<title>7&#45;&gt;14</title>\n",
              "<path fill=\"none\" stroke=\"black\" d=\"M206,-88.95C206,-80.72 206,-71.85 206,-63.48\"/>\n",
              "<polygon fill=\"black\" stroke=\"black\" points=\"209.5,-63.24 206,-53.24 202.5,-63.24 209.5,-63.24\"/>\n",
              "</g>\n",
              "<!-- 15 -->\n",
              "<g id=\"node10\" class=\"node\">\n",
              "<title>15</title>\n",
              "<polygon fill=\"none\" stroke=\"black\" points=\"420.5,-53 289.5,-53 289.5,0 420.5,0 420.5,-53\"/>\n",
              "<text text-anchor=\"middle\" x=\"355\" y=\"-37.8\" font-family=\"Helvetica,sans-Serif\" font-size=\"14.00\">entropy = 0.753</text>\n",
              "<text text-anchor=\"middle\" x=\"355\" y=\"-22.8\" font-family=\"Helvetica,sans-Serif\" font-size=\"14.00\">samples = 88</text>\n",
              "<text text-anchor=\"middle\" x=\"355\" y=\"-7.8\" font-family=\"Helvetica,sans-Serif\" font-size=\"14.00\">value = [69, 19]</text>\n",
              "</g>\n",
              "<!-- 8&#45;&gt;15 -->\n",
              "<g id=\"edge9\" class=\"edge\">\n",
              "<title>8&#45;&gt;15</title>\n",
              "<path fill=\"none\" stroke=\"black\" d=\"M412.22,-88.95C403.7,-79.8 394.46,-69.87 385.93,-60.71\"/>\n",
              "<polygon fill=\"black\" stroke=\"black\" points=\"388.34,-58.17 378.97,-53.24 383.22,-62.94 388.34,-58.17\"/>\n",
              "</g>\n",
              "<!-- 16 -->\n",
              "<g id=\"node11\" class=\"node\">\n",
              "<title>16</title>\n",
              "<polygon fill=\"none\" stroke=\"black\" points=\"551.5,-53 438.5,-53 438.5,0 551.5,0 551.5,-53\"/>\n",
              "<text text-anchor=\"middle\" x=\"495\" y=\"-37.8\" font-family=\"Helvetica,sans-Serif\" font-size=\"14.00\">entropy = 0.0</text>\n",
              "<text text-anchor=\"middle\" x=\"495\" y=\"-22.8\" font-family=\"Helvetica,sans-Serif\" font-size=\"14.00\">samples = 5</text>\n",
              "<text text-anchor=\"middle\" x=\"495\" y=\"-7.8\" font-family=\"Helvetica,sans-Serif\" font-size=\"14.00\">value = [0, 5]</text>\n",
              "</g>\n",
              "<!-- 8&#45;&gt;16 -->\n",
              "<g id=\"edge10\" class=\"edge\">\n",
              "<title>8&#45;&gt;16</title>\n",
              "<path fill=\"none\" stroke=\"black\" d=\"M461.19,-88.95C465.97,-80.26 471.14,-70.86 475.97,-62.09\"/>\n",
              "<polygon fill=\"black\" stroke=\"black\" points=\"479.08,-63.69 480.84,-53.24 472.95,-60.31 479.08,-63.69\"/>\n",
              "</g>\n",
              "<!-- 19 -->\n",
              "<g id=\"node13\" class=\"node\">\n",
              "<title>19</title>\n",
              "<polygon fill=\"none\" stroke=\"black\" points=\"698,-253.5 576,-253.5 576,-200.5 698,-200.5 698,-253.5\"/>\n",
              "<text text-anchor=\"middle\" x=\"637\" y=\"-238.3\" font-family=\"Helvetica,sans-Serif\" font-size=\"14.00\">entropy = 0.0</text>\n",
              "<text text-anchor=\"middle\" x=\"637\" y=\"-223.3\" font-family=\"Helvetica,sans-Serif\" font-size=\"14.00\">samples = 25</text>\n",
              "<text text-anchor=\"middle\" x=\"637\" y=\"-208.3\" font-family=\"Helvetica,sans-Serif\" font-size=\"14.00\">value = [0, 25]</text>\n",
              "</g>\n",
              "<!-- 4&#45;&gt;19 -->\n",
              "<g id=\"edge12\" class=\"edge\">\n",
              "<title>4&#45;&gt;19</title>\n",
              "<path fill=\"none\" stroke=\"black\" d=\"M647.13,-296.88C645.56,-286.22 643.82,-274.35 642.22,-263.52\"/>\n",
              "<polygon fill=\"black\" stroke=\"black\" points=\"645.67,-262.9 640.75,-253.52 638.75,-263.92 645.67,-262.9\"/>\n",
              "</g>\n",
              "<!-- 20 -->\n",
              "<g id=\"node14\" class=\"node\">\n",
              "<title>20</title>\n",
              "<polygon fill=\"none\" stroke=\"black\" points=\"925.5,-261 716.5,-261 716.5,-193 925.5,-193 925.5,-261\"/>\n",
              "<text text-anchor=\"middle\" x=\"821\" y=\"-245.8\" font-family=\"Helvetica,sans-Serif\" font-size=\"14.00\">AnnualSalary &lt;= 118250.0</text>\n",
              "<text text-anchor=\"middle\" x=\"821\" y=\"-230.8\" font-family=\"Helvetica,sans-Serif\" font-size=\"14.00\">entropy = 0.722</text>\n",
              "<text text-anchor=\"middle\" x=\"821\" y=\"-215.8\" font-family=\"Helvetica,sans-Serif\" font-size=\"14.00\">samples = 55</text>\n",
              "<text text-anchor=\"middle\" x=\"821\" y=\"-200.8\" font-family=\"Helvetica,sans-Serif\" font-size=\"14.00\">value = [11, 44]</text>\n",
              "</g>\n",
              "<!-- 4&#45;&gt;20 -->\n",
              "<g id=\"edge13\" class=\"edge\">\n",
              "<title>4&#45;&gt;20</title>\n",
              "<path fill=\"none\" stroke=\"black\" d=\"M706.87,-296.88C723.04,-287.12 740.86,-276.37 757.53,-266.31\"/>\n",
              "<polygon fill=\"black\" stroke=\"black\" points=\"759.36,-269.29 766.12,-261.12 755.75,-263.3 759.36,-269.29\"/>\n",
              "</g>\n",
              "<!-- 21 -->\n",
              "<g id=\"node15\" class=\"node\">\n",
              "<title>21</title>\n",
              "<polygon fill=\"none\" stroke=\"black\" points=\"821.5,-157 690.5,-157 690.5,-89 821.5,-89 821.5,-157\"/>\n",
              "<text text-anchor=\"middle\" x=\"756\" y=\"-141.8\" font-family=\"Helvetica,sans-Serif\" font-size=\"14.00\">Age &lt;= 42.0</text>\n",
              "<text text-anchor=\"middle\" x=\"756\" y=\"-126.8\" font-family=\"Helvetica,sans-Serif\" font-size=\"14.00\">entropy = 0.989</text>\n",
              "<text text-anchor=\"middle\" x=\"756\" y=\"-111.8\" font-family=\"Helvetica,sans-Serif\" font-size=\"14.00\">samples = 16</text>\n",
              "<text text-anchor=\"middle\" x=\"756\" y=\"-96.8\" font-family=\"Helvetica,sans-Serif\" font-size=\"14.00\">value = [9, 7]</text>\n",
              "</g>\n",
              "<!-- 20&#45;&gt;21 -->\n",
              "<g id=\"edge14\" class=\"edge\">\n",
              "<title>20&#45;&gt;21</title>\n",
              "<path fill=\"none\" stroke=\"black\" d=\"M799.9,-192.88C794.39,-184.24 788.38,-174.82 782.63,-165.79\"/>\n",
              "<polygon fill=\"black\" stroke=\"black\" points=\"785.55,-163.85 777.22,-157.3 779.64,-167.61 785.55,-163.85\"/>\n",
              "</g>\n",
              "<!-- 22 -->\n",
              "<g id=\"node18\" class=\"node\">\n",
              "<title>22</title>\n",
              "<polygon fill=\"none\" stroke=\"black\" points=\"970.5,-157 839.5,-157 839.5,-89 970.5,-89 970.5,-157\"/>\n",
              "<text text-anchor=\"middle\" x=\"905\" y=\"-141.8\" font-family=\"Helvetica,sans-Serif\" font-size=\"14.00\">Age &lt;= 42.5</text>\n",
              "<text text-anchor=\"middle\" x=\"905\" y=\"-126.8\" font-family=\"Helvetica,sans-Serif\" font-size=\"14.00\">entropy = 0.292</text>\n",
              "<text text-anchor=\"middle\" x=\"905\" y=\"-111.8\" font-family=\"Helvetica,sans-Serif\" font-size=\"14.00\">samples = 39</text>\n",
              "<text text-anchor=\"middle\" x=\"905\" y=\"-96.8\" font-family=\"Helvetica,sans-Serif\" font-size=\"14.00\">value = [2, 37]</text>\n",
              "</g>\n",
              "<!-- 20&#45;&gt;22 -->\n",
              "<g id=\"edge17\" class=\"edge\">\n",
              "<title>20&#45;&gt;22</title>\n",
              "<path fill=\"none\" stroke=\"black\" d=\"M848.27,-192.88C855.53,-184.07 863.47,-174.43 871.04,-165.24\"/>\n",
              "<polygon fill=\"black\" stroke=\"black\" points=\"873.92,-167.24 877.58,-157.3 868.52,-162.79 873.92,-167.24\"/>\n",
              "</g>\n",
              "<!-- 33 -->\n",
              "<g id=\"node16\" class=\"node\">\n",
              "<title>33</title>\n",
              "<polygon fill=\"none\" stroke=\"black\" points=\"692,-53 570,-53 570,0 692,0 692,-53\"/>\n",
              "<text text-anchor=\"middle\" x=\"631\" y=\"-37.8\" font-family=\"Helvetica,sans-Serif\" font-size=\"14.00\">entropy = 0.94</text>\n",
              "<text text-anchor=\"middle\" x=\"631\" y=\"-22.8\" font-family=\"Helvetica,sans-Serif\" font-size=\"14.00\">samples = 14</text>\n",
              "<text text-anchor=\"middle\" x=\"631\" y=\"-7.8\" font-family=\"Helvetica,sans-Serif\" font-size=\"14.00\">value = [9, 5]</text>\n",
              "</g>\n",
              "<!-- 21&#45;&gt;33 -->\n",
              "<g id=\"edge15\" class=\"edge\">\n",
              "<title>21&#45;&gt;33</title>\n",
              "<path fill=\"none\" stroke=\"black\" d=\"M712.28,-88.95C699.58,-79.34 685.73,-68.87 673.12,-59.34\"/>\n",
              "<polygon fill=\"black\" stroke=\"black\" points=\"675.13,-56.48 665.04,-53.24 670.91,-62.06 675.13,-56.48\"/>\n",
              "</g>\n",
              "<!-- 34 -->\n",
              "<g id=\"node17\" class=\"node\">\n",
              "<title>34</title>\n",
              "<polygon fill=\"none\" stroke=\"black\" points=\"823.5,-53 710.5,-53 710.5,0 823.5,0 823.5,-53\"/>\n",
              "<text text-anchor=\"middle\" x=\"767\" y=\"-37.8\" font-family=\"Helvetica,sans-Serif\" font-size=\"14.00\">entropy = 0.0</text>\n",
              "<text text-anchor=\"middle\" x=\"767\" y=\"-22.8\" font-family=\"Helvetica,sans-Serif\" font-size=\"14.00\">samples = 2</text>\n",
              "<text text-anchor=\"middle\" x=\"767\" y=\"-7.8\" font-family=\"Helvetica,sans-Serif\" font-size=\"14.00\">value = [0, 2]</text>\n",
              "</g>\n",
              "<!-- 21&#45;&gt;34 -->\n",
              "<g id=\"edge16\" class=\"edge\">\n",
              "<title>21&#45;&gt;34</title>\n",
              "<path fill=\"none\" stroke=\"black\" d=\"M759.85,-88.95C760.82,-80.62 761.86,-71.65 762.84,-63.2\"/>\n",
              "<polygon fill=\"black\" stroke=\"black\" points=\"766.32,-63.57 764,-53.24 759.37,-62.76 766.32,-63.57\"/>\n",
              "</g>\n",
              "<!-- 23 -->\n",
              "<g id=\"node19\" class=\"node\">\n",
              "<title>23</title>\n",
              "<polygon fill=\"none\" stroke=\"black\" points=\"964,-53 842,-53 842,0 964,0 964,-53\"/>\n",
              "<text text-anchor=\"middle\" x=\"903\" y=\"-37.8\" font-family=\"Helvetica,sans-Serif\" font-size=\"14.00\">entropy = 0.0</text>\n",
              "<text text-anchor=\"middle\" x=\"903\" y=\"-22.8\" font-family=\"Helvetica,sans-Serif\" font-size=\"14.00\">samples = 33</text>\n",
              "<text text-anchor=\"middle\" x=\"903\" y=\"-7.8\" font-family=\"Helvetica,sans-Serif\" font-size=\"14.00\">value = [0, 33]</text>\n",
              "</g>\n",
              "<!-- 22&#45;&gt;23 -->\n",
              "<g id=\"edge18\" class=\"edge\">\n",
              "<title>22&#45;&gt;23</title>\n",
              "<path fill=\"none\" stroke=\"black\" d=\"M904.3,-88.95C904.13,-80.72 903.94,-71.85 903.76,-63.48\"/>\n",
              "<polygon fill=\"black\" stroke=\"black\" points=\"907.26,-63.16 903.54,-53.24 900.26,-63.31 907.26,-63.16\"/>\n",
              "</g>\n",
              "<!-- 24 -->\n",
              "<g id=\"node20\" class=\"node\">\n",
              "<title>24</title>\n",
              "<polygon fill=\"none\" stroke=\"black\" points=\"1113.5,-53 982.5,-53 982.5,0 1113.5,0 1113.5,-53\"/>\n",
              "<text text-anchor=\"middle\" x=\"1048\" y=\"-37.8\" font-family=\"Helvetica,sans-Serif\" font-size=\"14.00\">entropy = 0.918</text>\n",
              "<text text-anchor=\"middle\" x=\"1048\" y=\"-22.8\" font-family=\"Helvetica,sans-Serif\" font-size=\"14.00\">samples = 6</text>\n",
              "<text text-anchor=\"middle\" x=\"1048\" y=\"-7.8\" font-family=\"Helvetica,sans-Serif\" font-size=\"14.00\">value = [2, 4]</text>\n",
              "</g>\n",
              "<!-- 22&#45;&gt;24 -->\n",
              "<g id=\"edge19\" class=\"edge\">\n",
              "<title>22&#45;&gt;24</title>\n",
              "<path fill=\"none\" stroke=\"black\" d=\"M955.01,-88.95C969.83,-79.16 985.99,-68.48 1000.63,-58.8\"/>\n",
              "<polygon fill=\"black\" stroke=\"black\" points=\"1002.64,-61.67 1009.05,-53.24 998.78,-55.83 1002.64,-61.67\"/>\n",
              "</g>\n",
              "<!-- 9 -->\n",
              "<g id=\"node22\" class=\"node\">\n",
              "<title>9</title>\n",
              "<polygon fill=\"none\" stroke=\"black\" points=\"1384,-365 1184,-365 1184,-297 1384,-297 1384,-365\"/>\n",
              "<text text-anchor=\"middle\" x=\"1284\" y=\"-349.8\" font-family=\"Helvetica,sans-Serif\" font-size=\"14.00\">AnnualSalary &lt;= 25000.0</text>\n",
              "<text text-anchor=\"middle\" x=\"1284\" y=\"-334.8\" font-family=\"Helvetica,sans-Serif\" font-size=\"14.00\">entropy = 0.111</text>\n",
              "<text text-anchor=\"middle\" x=\"1284\" y=\"-319.8\" font-family=\"Helvetica,sans-Serif\" font-size=\"14.00\">samples = 68</text>\n",
              "<text text-anchor=\"middle\" x=\"1284\" y=\"-304.8\" font-family=\"Helvetica,sans-Serif\" font-size=\"14.00\">value = [1, 67]</text>\n",
              "</g>\n",
              "<!-- 2&#45;&gt;9 -->\n",
              "<g id=\"edge21\" class=\"edge\">\n",
              "<title>2&#45;&gt;9</title>\n",
              "<path fill=\"none\" stroke=\"black\" d=\"M1284,-400.88C1284,-392.78 1284,-383.98 1284,-375.47\"/>\n",
              "<polygon fill=\"black\" stroke=\"black\" points=\"1287.5,-375.3 1284,-365.3 1280.5,-375.3 1287.5,-375.3\"/>\n",
              "</g>\n",
              "<!-- 10 -->\n",
              "<g id=\"node29\" class=\"node\">\n",
              "<title>10</title>\n",
              "<polygon fill=\"none\" stroke=\"black\" points=\"1782,-365 1582,-365 1582,-297 1782,-297 1782,-365\"/>\n",
              "<text text-anchor=\"middle\" x=\"1682\" y=\"-349.8\" font-family=\"Helvetica,sans-Serif\" font-size=\"14.00\">AnnualSalary &lt;= 85250.0</text>\n",
              "<text text-anchor=\"middle\" x=\"1682\" y=\"-334.8\" font-family=\"Helvetica,sans-Serif\" font-size=\"14.00\">entropy = 0.748</text>\n",
              "<text text-anchor=\"middle\" x=\"1682\" y=\"-319.8\" font-family=\"Helvetica,sans-Serif\" font-size=\"14.00\">samples = 150</text>\n",
              "<text text-anchor=\"middle\" x=\"1682\" y=\"-304.8\" font-family=\"Helvetica,sans-Serif\" font-size=\"14.00\">value = [32, 118]</text>\n",
              "</g>\n",
              "<!-- 2&#45;&gt;10 -->\n",
              "<g id=\"edge28\" class=\"edge\">\n",
              "<title>2&#45;&gt;10</title>\n",
              "<path fill=\"none\" stroke=\"black\" d=\"M1384.18,-408.33C1441.43,-393.65 1513.32,-375.23 1572.13,-360.16\"/>\n",
              "<polygon fill=\"black\" stroke=\"black\" points=\"1573,-363.55 1581.82,-357.67 1571.26,-356.77 1573,-363.55\"/>\n",
              "</g>\n",
              "<!-- 35 -->\n",
              "<g id=\"node23\" class=\"node\">\n",
              "<title>35</title>\n",
              "<polygon fill=\"none\" stroke=\"black\" points=\"1295,-261 1095,-261 1095,-193 1295,-193 1295,-261\"/>\n",
              "<text text-anchor=\"middle\" x=\"1195\" y=\"-245.8\" font-family=\"Helvetica,sans-Serif\" font-size=\"14.00\">AnnualSalary &lt;= 24000.0</text>\n",
              "<text text-anchor=\"middle\" x=\"1195\" y=\"-230.8\" font-family=\"Helvetica,sans-Serif\" font-size=\"14.00\">entropy = 0.391</text>\n",
              "<text text-anchor=\"middle\" x=\"1195\" y=\"-215.8\" font-family=\"Helvetica,sans-Serif\" font-size=\"14.00\">samples = 13</text>\n",
              "<text text-anchor=\"middle\" x=\"1195\" y=\"-200.8\" font-family=\"Helvetica,sans-Serif\" font-size=\"14.00\">value = [1, 12]</text>\n",
              "</g>\n",
              "<!-- 9&#45;&gt;35 -->\n",
              "<g id=\"edge22\" class=\"edge\">\n",
              "<title>9&#45;&gt;35</title>\n",
              "<path fill=\"none\" stroke=\"black\" d=\"M1255.1,-296.88C1247.33,-287.98 1238.83,-278.24 1230.74,-268.96\"/>\n",
              "<polygon fill=\"black\" stroke=\"black\" points=\"1233.27,-266.53 1224.06,-261.3 1227.99,-271.14 1233.27,-266.53\"/>\n",
              "</g>\n",
              "<!-- 36 -->\n",
              "<g id=\"node28\" class=\"node\">\n",
              "<title>36</title>\n",
              "<polygon fill=\"none\" stroke=\"black\" points=\"1435,-253.5 1313,-253.5 1313,-200.5 1435,-200.5 1435,-253.5\"/>\n",
              "<text text-anchor=\"middle\" x=\"1374\" y=\"-238.3\" font-family=\"Helvetica,sans-Serif\" font-size=\"14.00\">entropy = 0.0</text>\n",
              "<text text-anchor=\"middle\" x=\"1374\" y=\"-223.3\" font-family=\"Helvetica,sans-Serif\" font-size=\"14.00\">samples = 55</text>\n",
              "<text text-anchor=\"middle\" x=\"1374\" y=\"-208.3\" font-family=\"Helvetica,sans-Serif\" font-size=\"14.00\">value = [0, 55]</text>\n",
              "</g>\n",
              "<!-- 9&#45;&gt;36 -->\n",
              "<g id=\"edge27\" class=\"edge\">\n",
              "<title>9&#45;&gt;36</title>\n",
              "<path fill=\"none\" stroke=\"black\" d=\"M1313.22,-296.88C1323.31,-285.45 1334.62,-272.63 1344.71,-261.19\"/>\n",
              "<polygon fill=\"black\" stroke=\"black\" points=\"1347.49,-263.33 1351.48,-253.52 1342.24,-258.7 1347.49,-263.33\"/>\n",
              "</g>\n",
              "<!-- 37 -->\n",
              "<g id=\"node24\" class=\"node\">\n",
              "<title>37</title>\n",
              "<polygon fill=\"none\" stroke=\"black\" points=\"1157.5,-149.5 1044.5,-149.5 1044.5,-96.5 1157.5,-96.5 1157.5,-149.5\"/>\n",
              "<text text-anchor=\"middle\" x=\"1101\" y=\"-134.3\" font-family=\"Helvetica,sans-Serif\" font-size=\"14.00\">entropy = 0.0</text>\n",
              "<text text-anchor=\"middle\" x=\"1101\" y=\"-119.3\" font-family=\"Helvetica,sans-Serif\" font-size=\"14.00\">samples = 9</text>\n",
              "<text text-anchor=\"middle\" x=\"1101\" y=\"-104.3\" font-family=\"Helvetica,sans-Serif\" font-size=\"14.00\">value = [0, 9]</text>\n",
              "</g>\n",
              "<!-- 35&#45;&gt;37 -->\n",
              "<g id=\"edge23\" class=\"edge\">\n",
              "<title>35&#45;&gt;37</title>\n",
              "<path fill=\"none\" stroke=\"black\" d=\"M1164.48,-192.88C1153.94,-181.45 1142.13,-168.63 1131.59,-157.19\"/>\n",
              "<polygon fill=\"black\" stroke=\"black\" points=\"1133.87,-154.5 1124.52,-149.52 1128.72,-159.25 1133.87,-154.5\"/>\n",
              "</g>\n",
              "<!-- 38 -->\n",
              "<g id=\"node25\" class=\"node\">\n",
              "<title>38</title>\n",
              "<polygon fill=\"none\" stroke=\"black\" points=\"1306.5,-157 1175.5,-157 1175.5,-89 1306.5,-89 1306.5,-157\"/>\n",
              "<text text-anchor=\"middle\" x=\"1241\" y=\"-141.8\" font-family=\"Helvetica,sans-Serif\" font-size=\"14.00\">male &lt;= 0.5</text>\n",
              "<text text-anchor=\"middle\" x=\"1241\" y=\"-126.8\" font-family=\"Helvetica,sans-Serif\" font-size=\"14.00\">entropy = 0.811</text>\n",
              "<text text-anchor=\"middle\" x=\"1241\" y=\"-111.8\" font-family=\"Helvetica,sans-Serif\" font-size=\"14.00\">samples = 4</text>\n",
              "<text text-anchor=\"middle\" x=\"1241\" y=\"-96.8\" font-family=\"Helvetica,sans-Serif\" font-size=\"14.00\">value = [1, 3]</text>\n",
              "</g>\n",
              "<!-- 35&#45;&gt;38 -->\n",
              "<g id=\"edge24\" class=\"edge\">\n",
              "<title>35&#45;&gt;38</title>\n",
              "<path fill=\"none\" stroke=\"black\" d=\"M1209.93,-192.88C1213.71,-184.51 1217.82,-175.4 1221.77,-166.63\"/>\n",
              "<polygon fill=\"black\" stroke=\"black\" points=\"1225.06,-167.85 1225.98,-157.3 1218.68,-164.98 1225.06,-167.85\"/>\n",
              "</g>\n",
              "<!-- 39 -->\n",
              "<g id=\"node26\" class=\"node\">\n",
              "<title>39</title>\n",
              "<polygon fill=\"none\" stroke=\"black\" points=\"1244.5,-53 1131.5,-53 1131.5,0 1244.5,0 1244.5,-53\"/>\n",
              "<text text-anchor=\"middle\" x=\"1188\" y=\"-37.8\" font-family=\"Helvetica,sans-Serif\" font-size=\"14.00\">entropy = 1.0</text>\n",
              "<text text-anchor=\"middle\" x=\"1188\" y=\"-22.8\" font-family=\"Helvetica,sans-Serif\" font-size=\"14.00\">samples = 2</text>\n",
              "<text text-anchor=\"middle\" x=\"1188\" y=\"-7.8\" font-family=\"Helvetica,sans-Serif\" font-size=\"14.00\">value = [1, 1]</text>\n",
              "</g>\n",
              "<!-- 38&#45;&gt;39 -->\n",
              "<g id=\"edge25\" class=\"edge\">\n",
              "<title>38&#45;&gt;39</title>\n",
              "<path fill=\"none\" stroke=\"black\" d=\"M1222.46,-88.95C1217.59,-80.26 1212.32,-70.86 1207.4,-62.09\"/>\n",
              "<polygon fill=\"black\" stroke=\"black\" points=\"1210.38,-60.25 1202.43,-53.24 1204.27,-63.67 1210.38,-60.25\"/>\n",
              "</g>\n",
              "<!-- 40 -->\n",
              "<g id=\"node27\" class=\"node\">\n",
              "<title>40</title>\n",
              "<polygon fill=\"none\" stroke=\"black\" points=\"1375.5,-53 1262.5,-53 1262.5,0 1375.5,0 1375.5,-53\"/>\n",
              "<text text-anchor=\"middle\" x=\"1319\" y=\"-37.8\" font-family=\"Helvetica,sans-Serif\" font-size=\"14.00\">entropy = 0.0</text>\n",
              "<text text-anchor=\"middle\" x=\"1319\" y=\"-22.8\" font-family=\"Helvetica,sans-Serif\" font-size=\"14.00\">samples = 2</text>\n",
              "<text text-anchor=\"middle\" x=\"1319\" y=\"-7.8\" font-family=\"Helvetica,sans-Serif\" font-size=\"14.00\">value = [0, 2]</text>\n",
              "</g>\n",
              "<!-- 38&#45;&gt;40 -->\n",
              "<g id=\"edge26\" class=\"edge\">\n",
              "<title>38&#45;&gt;40</title>\n",
              "<path fill=\"none\" stroke=\"black\" d=\"M1268.28,-88.95C1275.76,-79.89 1283.86,-70.07 1291.36,-60.99\"/>\n",
              "<polygon fill=\"black\" stroke=\"black\" points=\"1294.09,-63.18 1297.76,-53.24 1288.69,-58.72 1294.09,-63.18\"/>\n",
              "</g>\n",
              "<!-- 11 -->\n",
              "<g id=\"node30\" class=\"node\">\n",
              "<title>11</title>\n",
              "<polygon fill=\"none\" stroke=\"black\" points=\"1747.5,-261 1616.5,-261 1616.5,-193 1747.5,-193 1747.5,-261\"/>\n",
              "<text text-anchor=\"middle\" x=\"1682\" y=\"-245.8\" font-family=\"Helvetica,sans-Serif\" font-size=\"14.00\">Age &lt;= 53.5</text>\n",
              "<text text-anchor=\"middle\" x=\"1682\" y=\"-230.8\" font-family=\"Helvetica,sans-Serif\" font-size=\"14.00\">entropy = 0.973</text>\n",
              "<text text-anchor=\"middle\" x=\"1682\" y=\"-215.8\" font-family=\"Helvetica,sans-Serif\" font-size=\"14.00\">samples = 57</text>\n",
              "<text text-anchor=\"middle\" x=\"1682\" y=\"-200.8\" font-family=\"Helvetica,sans-Serif\" font-size=\"14.00\">value = [23, 34]</text>\n",
              "</g>\n",
              "<!-- 10&#45;&gt;11 -->\n",
              "<g id=\"edge29\" class=\"edge\">\n",
              "<title>10&#45;&gt;11</title>\n",
              "<path fill=\"none\" stroke=\"black\" d=\"M1682,-296.88C1682,-288.78 1682,-279.98 1682,-271.47\"/>\n",
              "<polygon fill=\"black\" stroke=\"black\" points=\"1685.5,-271.3 1682,-261.3 1678.5,-271.3 1685.5,-271.3\"/>\n",
              "</g>\n",
              "<!-- 12 -->\n",
              "<g id=\"node37\" class=\"node\">\n",
              "<title>12</title>\n",
              "<polygon fill=\"none\" stroke=\"black\" points=\"2107.5,-261 1976.5,-261 1976.5,-193 2107.5,-193 2107.5,-261\"/>\n",
              "<text text-anchor=\"middle\" x=\"2042\" y=\"-245.8\" font-family=\"Helvetica,sans-Serif\" font-size=\"14.00\">Age &lt;= 55.5</text>\n",
              "<text text-anchor=\"middle\" x=\"2042\" y=\"-230.8\" font-family=\"Helvetica,sans-Serif\" font-size=\"14.00\">entropy = 0.459</text>\n",
              "<text text-anchor=\"middle\" x=\"2042\" y=\"-215.8\" font-family=\"Helvetica,sans-Serif\" font-size=\"14.00\">samples = 93</text>\n",
              "<text text-anchor=\"middle\" x=\"2042\" y=\"-200.8\" font-family=\"Helvetica,sans-Serif\" font-size=\"14.00\">value = [9, 84]</text>\n",
              "</g>\n",
              "<!-- 10&#45;&gt;12 -->\n",
              "<g id=\"edge36\" class=\"edge\">\n",
              "<title>10&#45;&gt;12</title>\n",
              "<path fill=\"none\" stroke=\"black\" d=\"M1782.28,-301.59C1840.65,-285.05 1913.03,-264.54 1966.54,-249.38\"/>\n",
              "<polygon fill=\"black\" stroke=\"black\" points=\"1967.64,-252.71 1976.3,-246.61 1965.73,-245.97 1967.64,-252.71\"/>\n",
              "</g>\n",
              "<!-- 17 -->\n",
              "<g id=\"node31\" class=\"node\">\n",
              "<title>17</title>\n",
              "<polygon fill=\"none\" stroke=\"black\" points=\"1690,-157 1490,-157 1490,-89 1690,-89 1690,-157\"/>\n",
              "<text text-anchor=\"middle\" x=\"1590\" y=\"-141.8\" font-family=\"Helvetica,sans-Serif\" font-size=\"14.00\">AnnualSalary &lt;= 56250.0</text>\n",
              "<text text-anchor=\"middle\" x=\"1590\" y=\"-126.8\" font-family=\"Helvetica,sans-Serif\" font-size=\"14.00\">entropy = 0.963</text>\n",
              "<text text-anchor=\"middle\" x=\"1590\" y=\"-111.8\" font-family=\"Helvetica,sans-Serif\" font-size=\"14.00\">samples = 31</text>\n",
              "<text text-anchor=\"middle\" x=\"1590\" y=\"-96.8\" font-family=\"Helvetica,sans-Serif\" font-size=\"14.00\">value = [19, 12]</text>\n",
              "</g>\n",
              "<!-- 11&#45;&gt;17 -->\n",
              "<g id=\"edge30\" class=\"edge\">\n",
              "<title>11&#45;&gt;17</title>\n",
              "<path fill=\"none\" stroke=\"black\" d=\"M1652.13,-192.88C1644.1,-183.98 1635.31,-174.24 1626.94,-164.96\"/>\n",
              "<polygon fill=\"black\" stroke=\"black\" points=\"1629.33,-162.38 1620.03,-157.3 1624.13,-167.07 1629.33,-162.38\"/>\n",
              "</g>\n",
              "<!-- 18 -->\n",
              "<g id=\"node34\" class=\"node\">\n",
              "<title>18</title>\n",
              "<polygon fill=\"none\" stroke=\"black\" points=\"1839.5,-157 1708.5,-157 1708.5,-89 1839.5,-89 1839.5,-157\"/>\n",
              "<text text-anchor=\"middle\" x=\"1774\" y=\"-141.8\" font-family=\"Helvetica,sans-Serif\" font-size=\"14.00\">male &lt;= 0.5</text>\n",
              "<text text-anchor=\"middle\" x=\"1774\" y=\"-126.8\" font-family=\"Helvetica,sans-Serif\" font-size=\"14.00\">entropy = 0.619</text>\n",
              "<text text-anchor=\"middle\" x=\"1774\" y=\"-111.8\" font-family=\"Helvetica,sans-Serif\" font-size=\"14.00\">samples = 26</text>\n",
              "<text text-anchor=\"middle\" x=\"1774\" y=\"-96.8\" font-family=\"Helvetica,sans-Serif\" font-size=\"14.00\">value = [4, 22]</text>\n",
              "</g>\n",
              "<!-- 11&#45;&gt;18 -->\n",
              "<g id=\"edge33\" class=\"edge\">\n",
              "<title>11&#45;&gt;18</title>\n",
              "<path fill=\"none\" stroke=\"black\" d=\"M1711.87,-192.88C1719.9,-183.98 1728.69,-174.24 1737.06,-164.96\"/>\n",
              "<polygon fill=\"black\" stroke=\"black\" points=\"1739.87,-167.07 1743.97,-157.3 1734.67,-162.38 1739.87,-167.07\"/>\n",
              "</g>\n",
              "<!-- 29 -->\n",
              "<g id=\"node32\" class=\"node\">\n",
              "<title>29</title>\n",
              "<polygon fill=\"none\" stroke=\"black\" points=\"1524.5,-53 1393.5,-53 1393.5,0 1524.5,0 1524.5,-53\"/>\n",
              "<text text-anchor=\"middle\" x=\"1459\" y=\"-37.8\" font-family=\"Helvetica,sans-Serif\" font-size=\"14.00\">entropy = 0.977</text>\n",
              "<text text-anchor=\"middle\" x=\"1459\" y=\"-22.8\" font-family=\"Helvetica,sans-Serif\" font-size=\"14.00\">samples = 17</text>\n",
              "<text text-anchor=\"middle\" x=\"1459\" y=\"-7.8\" font-family=\"Helvetica,sans-Serif\" font-size=\"14.00\">value = [7, 10]</text>\n",
              "</g>\n",
              "<!-- 17&#45;&gt;29 -->\n",
              "<g id=\"edge31\" class=\"edge\">\n",
              "<title>17&#45;&gt;29</title>\n",
              "<path fill=\"none\" stroke=\"black\" d=\"M1544.18,-88.95C1530.87,-79.34 1516.36,-68.87 1503.14,-59.34\"/>\n",
              "<polygon fill=\"black\" stroke=\"black\" points=\"1504.84,-56.25 1494.68,-53.24 1500.74,-61.93 1504.84,-56.25\"/>\n",
              "</g>\n",
              "<!-- 30 -->\n",
              "<g id=\"node33\" class=\"node\">\n",
              "<title>30</title>\n",
              "<polygon fill=\"none\" stroke=\"black\" points=\"1673.5,-53 1542.5,-53 1542.5,0 1673.5,0 1673.5,-53\"/>\n",
              "<text text-anchor=\"middle\" x=\"1608\" y=\"-37.8\" font-family=\"Helvetica,sans-Serif\" font-size=\"14.00\">entropy = 0.592</text>\n",
              "<text text-anchor=\"middle\" x=\"1608\" y=\"-22.8\" font-family=\"Helvetica,sans-Serif\" font-size=\"14.00\">samples = 14</text>\n",
              "<text text-anchor=\"middle\" x=\"1608\" y=\"-7.8\" font-family=\"Helvetica,sans-Serif\" font-size=\"14.00\">value = [12, 2]</text>\n",
              "</g>\n",
              "<!-- 17&#45;&gt;30 -->\n",
              "<g id=\"edge32\" class=\"edge\">\n",
              "<title>17&#45;&gt;30</title>\n",
              "<path fill=\"none\" stroke=\"black\" d=\"M1596.3,-88.95C1597.88,-80.62 1599.59,-71.65 1601.2,-63.2\"/>\n",
              "<polygon fill=\"black\" stroke=\"black\" points=\"1604.66,-63.72 1603.1,-53.24 1597.79,-62.41 1604.66,-63.72\"/>\n",
              "</g>\n",
              "<!-- 27 -->\n",
              "<g id=\"node35\" class=\"node\">\n",
              "<title>27</title>\n",
              "<polygon fill=\"none\" stroke=\"black\" points=\"1822.5,-53 1691.5,-53 1691.5,0 1822.5,0 1822.5,-53\"/>\n",
              "<text text-anchor=\"middle\" x=\"1757\" y=\"-37.8\" font-family=\"Helvetica,sans-Serif\" font-size=\"14.00\">entropy = 0.918</text>\n",
              "<text text-anchor=\"middle\" x=\"1757\" y=\"-22.8\" font-family=\"Helvetica,sans-Serif\" font-size=\"14.00\">samples = 12</text>\n",
              "<text text-anchor=\"middle\" x=\"1757\" y=\"-7.8\" font-family=\"Helvetica,sans-Serif\" font-size=\"14.00\">value = [4, 8]</text>\n",
              "</g>\n",
              "<!-- 18&#45;&gt;27 -->\n",
              "<g id=\"edge34\" class=\"edge\">\n",
              "<title>18&#45;&gt;27</title>\n",
              "<path fill=\"none\" stroke=\"black\" d=\"M1768.05,-88.95C1766.56,-80.62 1764.94,-71.65 1763.42,-63.2\"/>\n",
              "<polygon fill=\"black\" stroke=\"black\" points=\"1766.85,-62.46 1761.63,-53.24 1759.96,-63.7 1766.85,-62.46\"/>\n",
              "</g>\n",
              "<!-- 28 -->\n",
              "<g id=\"node36\" class=\"node\">\n",
              "<title>28</title>\n",
              "<polygon fill=\"none\" stroke=\"black\" points=\"1963,-53 1841,-53 1841,0 1963,0 1963,-53\"/>\n",
              "<text text-anchor=\"middle\" x=\"1902\" y=\"-37.8\" font-family=\"Helvetica,sans-Serif\" font-size=\"14.00\">entropy = 0.0</text>\n",
              "<text text-anchor=\"middle\" x=\"1902\" y=\"-22.8\" font-family=\"Helvetica,sans-Serif\" font-size=\"14.00\">samples = 14</text>\n",
              "<text text-anchor=\"middle\" x=\"1902\" y=\"-7.8\" font-family=\"Helvetica,sans-Serif\" font-size=\"14.00\">value = [0, 14]</text>\n",
              "</g>\n",
              "<!-- 18&#45;&gt;28 -->\n",
              "<g id=\"edge35\" class=\"edge\">\n",
              "<title>18&#45;&gt;28</title>\n",
              "<path fill=\"none\" stroke=\"black\" d=\"M1818.77,-88.95C1831.78,-79.34 1845.96,-68.87 1858.87,-59.34\"/>\n",
              "<polygon fill=\"black\" stroke=\"black\" points=\"1861.17,-61.99 1867.14,-53.24 1857.02,-56.36 1861.17,-61.99\"/>\n",
              "</g>\n",
              "<!-- 25 -->\n",
              "<g id=\"node38\" class=\"node\">\n",
              "<title>25</title>\n",
              "<polygon fill=\"none\" stroke=\"black\" points=\"2142,-157 1942,-157 1942,-89 2142,-89 2142,-157\"/>\n",
              "<text text-anchor=\"middle\" x=\"2042\" y=\"-141.8\" font-family=\"Helvetica,sans-Serif\" font-size=\"14.00\">AnnualSalary &lt;= 94250.0</text>\n",
              "<text text-anchor=\"middle\" x=\"2042\" y=\"-126.8\" font-family=\"Helvetica,sans-Serif\" font-size=\"14.00\">entropy = 0.592</text>\n",
              "<text text-anchor=\"middle\" x=\"2042\" y=\"-111.8\" font-family=\"Helvetica,sans-Serif\" font-size=\"14.00\">samples = 63</text>\n",
              "<text text-anchor=\"middle\" x=\"2042\" y=\"-96.8\" font-family=\"Helvetica,sans-Serif\" font-size=\"14.00\">value = [9, 54]</text>\n",
              "</g>\n",
              "<!-- 12&#45;&gt;25 -->\n",
              "<g id=\"edge37\" class=\"edge\">\n",
              "<title>12&#45;&gt;25</title>\n",
              "<path fill=\"none\" stroke=\"black\" d=\"M2042,-192.88C2042,-184.78 2042,-175.98 2042,-167.47\"/>\n",
              "<polygon fill=\"black\" stroke=\"black\" points=\"2045.5,-167.3 2042,-157.3 2038.5,-167.3 2045.5,-167.3\"/>\n",
              "</g>\n",
              "<!-- 26 -->\n",
              "<g id=\"node41\" class=\"node\">\n",
              "<title>26</title>\n",
              "<polygon fill=\"none\" stroke=\"black\" points=\"2282,-149.5 2160,-149.5 2160,-96.5 2282,-96.5 2282,-149.5\"/>\n",
              "<text text-anchor=\"middle\" x=\"2221\" y=\"-134.3\" font-family=\"Helvetica,sans-Serif\" font-size=\"14.00\">entropy = 0.0</text>\n",
              "<text text-anchor=\"middle\" x=\"2221\" y=\"-119.3\" font-family=\"Helvetica,sans-Serif\" font-size=\"14.00\">samples = 30</text>\n",
              "<text text-anchor=\"middle\" x=\"2221\" y=\"-104.3\" font-family=\"Helvetica,sans-Serif\" font-size=\"14.00\">value = [0, 30]</text>\n",
              "</g>\n",
              "<!-- 12&#45;&gt;26 -->\n",
              "<g id=\"edge40\" class=\"edge\">\n",
              "<title>12&#45;&gt;26</title>\n",
              "<path fill=\"none\" stroke=\"black\" d=\"M2100.12,-192.88C2121.73,-180.57 2146.15,-166.65 2167.34,-154.57\"/>\n",
              "<polygon fill=\"black\" stroke=\"black\" points=\"2169.26,-157.51 2176.22,-149.52 2165.79,-151.43 2169.26,-157.51\"/>\n",
              "</g>\n",
              "<!-- 31 -->\n",
              "<g id=\"node39\" class=\"node\">\n",
              "<title>31</title>\n",
              "<polygon fill=\"none\" stroke=\"black\" points=\"2103,-53 1981,-53 1981,0 2103,0 2103,-53\"/>\n",
              "<text text-anchor=\"middle\" x=\"2042\" y=\"-37.8\" font-family=\"Helvetica,sans-Serif\" font-size=\"14.00\">entropy = 0.0</text>\n",
              "<text text-anchor=\"middle\" x=\"2042\" y=\"-22.8\" font-family=\"Helvetica,sans-Serif\" font-size=\"14.00\">samples = 13</text>\n",
              "<text text-anchor=\"middle\" x=\"2042\" y=\"-7.8\" font-family=\"Helvetica,sans-Serif\" font-size=\"14.00\">value = [0, 13]</text>\n",
              "</g>\n",
              "<!-- 25&#45;&gt;31 -->\n",
              "<g id=\"edge38\" class=\"edge\">\n",
              "<title>25&#45;&gt;31</title>\n",
              "<path fill=\"none\" stroke=\"black\" d=\"M2042,-88.95C2042,-80.72 2042,-71.85 2042,-63.48\"/>\n",
              "<polygon fill=\"black\" stroke=\"black\" points=\"2045.5,-63.24 2042,-53.24 2038.5,-63.24 2045.5,-63.24\"/>\n",
              "</g>\n",
              "<!-- 32 -->\n",
              "<g id=\"node40\" class=\"node\">\n",
              "<title>32</title>\n",
              "<polygon fill=\"none\" stroke=\"black\" points=\"2243,-53 2121,-53 2121,0 2243,0 2243,-53\"/>\n",
              "<text text-anchor=\"middle\" x=\"2182\" y=\"-37.8\" font-family=\"Helvetica,sans-Serif\" font-size=\"14.00\">entropy = 0.68</text>\n",
              "<text text-anchor=\"middle\" x=\"2182\" y=\"-22.8\" font-family=\"Helvetica,sans-Serif\" font-size=\"14.00\">samples = 50</text>\n",
              "<text text-anchor=\"middle\" x=\"2182\" y=\"-7.8\" font-family=\"Helvetica,sans-Serif\" font-size=\"14.00\">value = [9, 41]</text>\n",
              "</g>\n",
              "<!-- 25&#45;&gt;32 -->\n",
              "<g id=\"edge39\" class=\"edge\">\n",
              "<title>25&#45;&gt;32</title>\n",
              "<path fill=\"none\" stroke=\"black\" d=\"M2090.97,-88.95C2105.33,-79.25 2121,-68.68 2135.23,-59.07\"/>\n",
              "<polygon fill=\"black\" stroke=\"black\" points=\"2137.54,-61.73 2143.87,-53.24 2133.62,-55.93 2137.54,-61.73\"/>\n",
              "</g>\n",
              "</g>\n",
              "</svg>\n"
            ],
            "text/plain": [
              "<graphviz.files.Source at 0x7f8d9a3eaf50>"
            ]
          },
          "execution_count": 23,
          "metadata": {},
          "output_type": "execute_result"
        }
      ],
      "source": [
        "import graphviz\n",
        "from IPython.display import Image \n",
        "from sklearn.tree import export_graphviz \n",
        "\n",
        "dot_file = export_graphviz(finalmodel, feature_names=[\"Age\",\"AnnualSalary\",\"male\"])\n",
        "graph = graphviz.Source(dot_file)\n",
        "graph.render(filename=\"tree\", cleanup=True ) \n",
        "graph "
      ]
    }
  ],
  "metadata": {
    "kernelspec": {
      "display_name": "Python 3",
      "language": "python",
      "name": "python3"
    },
    "language_info": {
      "codemirror_mode": {
        "name": "ipython",
        "version": 3
      },
      "file_extension": ".py",
      "mimetype": "text/x-python",
      "name": "python",
      "nbconvert_exporter": "python",
      "pygments_lexer": "ipython3",
      "version": "3.7.12"
    },
    "papermill": {
      "default_parameters": {},
      "duration": 14.031861,
      "end_time": "2022-08-11T13:26:13.733031",
      "environment_variables": {},
      "exception": null,
      "input_path": "__notebook__.ipynb",
      "output_path": "__notebook__.ipynb",
      "parameters": {},
      "start_time": "2022-08-11T13:25:59.701170",
      "version": "2.3.4"
    },
    "colab": {
      "name": "Car_Purchase_Detection.ipynb",
      "provenance": []
    }
  },
  "nbformat": 4,
  "nbformat_minor": 5
}